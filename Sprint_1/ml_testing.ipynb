{
 "cells": [
  {
   "cell_type": "code",
   "execution_count": 17,
   "metadata": {},
   "outputs": [],
   "source": [
    "import numpy as np\n",
    "import pandas as pd\n",
    "from pandas_profiling import ProfileReport\n",
    "import sweetviz as sv\n",
    "import dtale\n",
    "import seaborn as sns\n",
    "import matplotlib.pyplot as plt\n",
    "from sklearn import preprocessing\n",
    "from sklearn.model_selection import train_test_split, RandomizedSearchCV, GridSearchCV, cross_val_score\n",
    "from sklearn.preprocessing import MinMaxScaler, StandardScaler, LabelEncoder\n",
    "from sklearn.linear_model import LogisticRegression\n",
    "from sklearn.metrics import confusion_matrix, classification_report, accuracy_score, mean_squared_error\n",
    "from sklearn.datasets import make_classification\n",
    "from sklearn.ensemble import RandomForestClassifier, RandomForestRegressor\n",
    "from pprint import pprint\n",
    "from sklearn.svm import SVC\n",
    "from sklearn.neighbors import KNeighborsClassifier\n",
    "from pandas.plotting import andrews_curves\n",
    "from statsmodels.nonparametric.smoothers_lowess import lowess\n",
    "import scipy.stats as sps\n",
    "import matplotlib.patches as mpatches\n",
    "red_wine=pd.read_csv(\"winequality-red.csv\",sep=\";\")\n",
    "white_wine=pd.read_csv(\"winequality-white.csv\",sep=\";\")\n",
    "#Column renaming according to usual conventions\n",
    "red_wine.columns=red_wine.columns.str.replace(\" \",\"_\")\n",
    "white_wine.columns=white_wine.columns.str.replace(\" \",\"_\")\n",
    "#Categorization of quality into three groups\n",
    "red_wine[\"quality_label\"] = red_wine[\"quality\"].apply(lambda value: 0 if value<=5 else 1 if value< 7 else 2)\n",
    "white_wine[\"quality_label\"]=white_wine[\"quality\"].apply(lambda value: 0 if value<=5 else 1 if value< 7 else 2)\n",
    "red_wine[\"quality_label\"]=pd.Categorical(red_wine[\"quality_label\"],categories=[0,1,2])\n",
    "white_wine[\"quality_label\"]=pd.Categorical(white_wine[\"quality_label\"],categories=[0,1,2])\n",
    "#Combining the two wine databases\n",
    "wines=pd.concat([red_wine,white_wine])\n",
    "wines=wines.sample(frac=1,random_state=42).reset_index(drop=True)"
   ]
  },
  {
   "cell_type": "code",
   "execution_count": 31,
   "metadata": {},
   "outputs": [],
   "source": [
    "x=white_wine.drop([\"quality\",\"quality_label\"],axis=1)\n",
    "y=white_wine[\"quality\"]\n",
    "xtrain,xtest,ytrain,ytest=train_test_split(x,y,test_size=0.2,random_state=42)\n",
    "xtrain_norm=xtrain\n",
    "xtest_norm=xtest"
   ]
  },
  {
   "cell_type": "code",
   "execution_count": 32,
   "metadata": {},
   "outputs": [],
   "source": [
    "#Data is normalised since distribution for all except pH is skewed\n",
    "#Normalisation only has a noticeable impact in non RF methods\n",
    "#If not normalised, the accuracy is less than 50%. With normalisation it it around 57%.\n",
    "norm=MinMaxScaler()\n",
    "norm_fit=norm.fit(xtrain)\n",
    "xtrain_norm=norm_fit.transform(xtrain)\n",
    "xtest_norm=norm_fit.transform(xtest)"
   ]
  },
  {
   "cell_type": "code",
   "execution_count": 20,
   "metadata": {},
   "outputs": [
    {
     "name": "stdout",
     "output_type": "stream",
     "text": [
      "Fitting 3 folds for each of 100 candidates, totalling 300 fits\n",
      "{'n_estimators': 1600, 'min_samples_split': 5, 'min_samples_leaf': 1, 'max_features': 'sqrt', 'max_depth': 70, 'bootstrap': False}\n"
     ]
    }
   ],
   "source": [
    "n_estimators=[int(x) for x in np.linspace(start=200,stop=2000,num=10)]\n",
    "max_features=[\"auto\",\"sqrt\"]\n",
    "max_depth=[int(x) for x in np.linspace(10,110,num=11)]\n",
    "max_depth.append(None)\n",
    "min_samples_split=[2,5,10]\n",
    "min_samples_leaf=[1,2,4]\n",
    "bootstrap=[True,False]\n",
    "grid={\"n_estimators\":n_estimators,\"max_features\":max_features,\"max_depth\":max_depth,\n",
    "\"min_samples_split\":min_samples_split,\"min_samples_leaf\":min_samples_leaf,\"bootstrap\":bootstrap}\n",
    "rf=RandomForestRegressor()\n",
    "random_grid=RandomizedSearchCV(estimator=rf,param_distributions=grid,n_iter=100,cv=3,verbose=2,random_state=42,n_jobs=-1)\n",
    "random_grid.fit(xtrain,ytrain)\n",
    "print(random_grid.best_params_)"
   ]
  },
  {
   "cell_type": "code",
   "execution_count": 29,
   "metadata": {},
   "outputs": [
    {
     "name": "stdout",
     "output_type": "stream",
     "text": [
      "Fitting 3 folds for each of 108 candidates, totalling 324 fits\n",
      "{'bootstrap': False, 'max_depth': None, 'max_features': 2, 'min_samples_leaf': 1, 'min_samples_split': 2, 'n_estimators': 1000}\n"
     ]
    }
   ],
   "source": [
    "best_grid={\"bootstrap\":[False],\"max_depth\":[None],\"max_features\":[2,3],\"min_samples_leaf\":[1,2,3],\"min_samples_split\":[2,4,6],\"n_estimators\":[200,400,600,800,1000,1600]}\n",
    "rf=RandomForestRegressor()\n",
    "grid_search=GridSearchCV(estimator=rf,param_grid=best_grid,cv=3,n_jobs=-1,verbose=2)\n",
    "grid_search.fit(xtrain_norm,ytrain)\n",
    "print(grid_search.best_params_)"
   ]
  },
  {
   "cell_type": "code",
   "execution_count": 33,
   "metadata": {},
   "outputs": [
    {
     "name": "stdout",
     "output_type": "stream",
     "text": [
      "0.7081632653061225\n",
      "              precision    recall  f1-score   support\n",
      "\n",
      "           3       0.00      0.00      0.00         5\n",
      "           4       0.67      0.32      0.43        25\n",
      "           5       0.74      0.70      0.72       291\n",
      "           6       0.67      0.81      0.73       432\n",
      "           7       0.76      0.61      0.68       192\n",
      "           8       0.89      0.46      0.60        35\n",
      "\n",
      "    accuracy                           0.71       980\n",
      "   macro avg       0.62      0.48      0.53       980\n",
      "weighted avg       0.71      0.71      0.70       980\n",
      "\n"
     ]
    }
   ],
   "source": [
    "#Deafault accuracy is ~69%\n",
    "#With hyperparameter tuning we can go up to 71%, by setting the n_estimators to 1000 and bootstrap=False; the rest are default\n",
    "rf=RandomForestClassifier(n_estimators=1000,max_features=2,bootstrap=False)\n",
    "rf_fit=rf.fit(xtrain_norm,ytrain)\n",
    "pred_rf=rf.predict(xtest_norm)\n",
    "rf=accuracy_score(ytest,pred_rf)\n",
    "print(rf)\n",
    "print(classification_report(ytest,pred_rf))"
   ]
  },
  {
   "cell_type": "code",
   "execution_count": 23,
   "metadata": {},
   "outputs": [
    {
     "name": "stdout",
     "output_type": "stream",
     "text": [
      "              precision    recall  f1-score   support\n",
      "\n",
      "           3       0.00      0.00      0.00         5\n",
      "           4       0.00      0.00      0.00        25\n",
      "           5       0.57      0.51      0.54       291\n",
      "           6       0.50      0.77      0.61       432\n",
      "           7       0.50      0.14      0.22       192\n",
      "           8       0.00      0.00      0.00        35\n",
      "\n",
      "    accuracy                           0.52       980\n",
      "   macro avg       0.26      0.24      0.23       980\n",
      "weighted avg       0.49      0.52      0.47       980\n",
      "\n"
     ]
    }
   ],
   "source": [
    "#Accuracy is ~55%\n",
    "lr=LogisticRegression()\n",
    "lr.fit(xtrain_norm,ytrain)\n",
    "pred_lr=lr.predict(xtest_norm)\n",
    "lr=accuracy_score(ytest,pred_lr)\n",
    "print(classification_report(ytest,pred_lr))"
   ]
  },
  {
   "cell_type": "code",
   "execution_count": 24,
   "metadata": {},
   "outputs": [
    {
     "name": "stdout",
     "output_type": "stream",
     "text": [
      "              precision    recall  f1-score   support\n",
      "\n",
      "           3       0.00      0.00      0.00         5\n",
      "           4       1.00      0.04      0.08        25\n",
      "           5       0.63      0.55      0.59       291\n",
      "           6       0.51      0.78      0.62       432\n",
      "           7       0.57      0.19      0.28       192\n",
      "           8       0.00      0.00      0.00        35\n",
      "\n",
      "    accuracy                           0.55       980\n",
      "   macro avg       0.45      0.26      0.26       980\n",
      "weighted avg       0.55      0.55      0.50       980\n",
      "\n"
     ]
    }
   ],
   "source": [
    "#Accuracy is ~57%\n",
    "svc=SVC()\n",
    "svc.fit(xtrain_norm,ytrain)\n",
    "pred_svc=svc.predict(xtest_norm)\n",
    "svc=accuracy_score(ytest,pred_svc)\n",
    "print(classification_report(ytest,pred_svc))"
   ]
  },
  {
   "cell_type": "code",
   "execution_count": 25,
   "metadata": {},
   "outputs": [
    {
     "name": "stdout",
     "output_type": "stream",
     "text": [
      "              precision    recall  f1-score   support\n",
      "\n",
      "           3       1.00      0.20      0.33         5\n",
      "           4       0.14      0.04      0.06        25\n",
      "           5       0.55      0.58      0.57       291\n",
      "           6       0.54      0.64      0.58       432\n",
      "           7       0.53      0.41      0.46       192\n",
      "           8       0.50      0.09      0.15        35\n",
      "\n",
      "    accuracy                           0.54       980\n",
      "   macro avg       0.54      0.33      0.36       980\n",
      "weighted avg       0.53      0.54      0.52       980\n",
      "\n"
     ]
    }
   ],
   "source": [
    "#Accuracy is ~58%\n",
    "knn=KNeighborsClassifier(n_neighbors=10,leaf_size=20)\n",
    "knn.fit(xtrain_norm,ytrain)\n",
    "pred_knn=knn.predict(xtest_norm)\n",
    "knn=accuracy_score(ytest,pred_knn)\n",
    "print(classification_report(ytest,pred_knn))"
   ]
  },
  {
   "cell_type": "code",
   "execution_count": 26,
   "metadata": {},
   "outputs": [
    {
     "data": {
      "text/plain": [
       "<AxesSubplot:xlabel='Accuracy', ylabel='Ensemble'>"
      ]
     },
     "execution_count": 26,
     "metadata": {},
     "output_type": "execute_result"
    },
    {
     "name": "stderr",
     "output_type": "stream",
     "text": [
      "findfont: Font family ['Heiti TC'] not found. Falling back to DejaVu Sans.\n",
      "findfont: Font family ['Heiti TC'] not found. Falling back to DejaVu Sans.\n"
     ]
    },
    {
     "data": {
      "image/png": "[encoded data removed]",
      "text/plain": [
       "<Figure size 432x288 with 1 Axes>"
      ]
     },
     "metadata": {
      "needs_background": "light"
     },
     "output_type": "display_data"
    }
   ],
   "source": [
    "%matplotlib inline\n",
    "mods=pd.DataFrame({\"Ensemble\":[\"RandomForest\",\"LogisticRegression\",\"SupportVector\",\"KNeighbors\"],\"Accuracy\":[rf,lr,svc,knn]})\n",
    "mods.sort_values(by=\"Accuracy\",ascending=False,inplace=True)\n",
    "a=sns.barplot(x=\"Accuracy\",y=\"Ensemble\",data=mods)\n",
    "a"
   ]
  }
 ],
 "metadata": {
  "interpreter": {
   "hash": "d4ca260931255454fde840190d1592bc9540e5d22da7c62476b4271349462b5e"
  },
  "kernelspec": {
   "display_name": "Python 3.9.7 ('base')",
   "language": "python",
   "name": "python3"
  },
  "language_info": {
   "codemirror_mode": {
    "name": "ipython",
    "version": 3
   },
   "file_extension": ".py",
   "mimetype": "text/x-python",
   "name": "python",
   "nbconvert_exporter": "python",
   "pygments_lexer": "ipython3",
   "version": "3.9.7"
  },
  "orig_nbformat": 4
 },
 "nbformat": 4,
 "nbformat_minor": 2
}
