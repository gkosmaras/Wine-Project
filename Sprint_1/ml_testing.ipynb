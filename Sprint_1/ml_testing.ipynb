{
 "cells": [
  {
   "cell_type": "code",
   "execution_count": 12,
   "metadata": {},
   "outputs": [],
   "source": [
    "import numpy as np\n",
    "import pandas as pd\n",
    "import seaborn as sns\n",
    "import matplotlib.pyplot as plt\n",
    "from sklearn import metrics\n",
    "from sklearn.model_selection import train_test_split, cross_val_score \n",
    "from sklearn.model_selection import GridSearchCV, RandomizedSearchCV\n",
    "from sklearn.preprocessing import MinMaxScaler, StandardScaler \n",
    "from sklearn.preprocessing import LabelEncoder\n",
    "from sklearn.linear_model import LogisticRegression\n",
    "from sklearn.metrics import classification_report, accuracy_score\n",
    "from sklearn.metrics import cohen_kappa_score, ConfusionMatrixDisplay \n",
    "from sklearn.metrics import confusion_matrix\n",
    "from sklearn.ensemble import RandomForestRegressor\n",
    "from sklearn.ensemble import RandomForestClassifier\n",
    "from pprint import pprint\n",
    "from sklearn.svm import SVC\n",
    "from sklearn.neighbors import KNeighborsClassifier\n",
    "red_wine = pd.read_csv(\"winequality-red.csv\", sep=\";\")\n",
    "white_wine = pd.read_csv(\"winequality-white.csv\", sep=\";\")\n",
    "#Column renaming according to usual conventions\n",
    "red_wine.columns = red_wine.columns.str.replace(\" \", \"_\")\n",
    "white_wine.columns = white_wine.columns.str.replace(\" \", \"_\")\n",
    "#Categorization of quality into three groups\n",
    "red_wine[\"quality_label\"] = red_wine[\"quality\"].apply(\n",
    "    lambda value: 0 if value<=5\n",
    "    else 1 if value< 7\n",
    "    else 2\n",
    "    )\n",
    "white_wine[\"quality_label\"] = white_wine[\"quality\"].apply(\n",
    "    lambda value: 0 if value<=5\n",
    "    else 1 if value< 7\n",
    "    else 2\n",
    "    )\n",
    "red_wine[\"quality_label\"] = pd.Categorical(\n",
    "    red_wine[\"quality_label\"],\n",
    "    categories = [ 0, 1, 2]\n",
    "    )\n",
    "white_wine[\"quality_label\"] = pd.Categorical(\n",
    "    white_wine[\"quality_label\"],\n",
    "    categories = [0, 1, 2]\n",
    "    )\n",
    "#Feature \"Crisp\" denotes the acidity of a wine over its sweetness/dryness\n",
    "white_wine[\"crisp\"] = (\n",
    "    white_wine[\"volatile_acidity\"]\n",
    "    /white_wine[\"residual_sugar\"])\n",
    "red_wine[\"crisp\"] = (\n",
    "    red_wine[\"volatile_acidity\"]\n",
    "    /red_wine[\"residual_sugar\"]\n",
    "    )\n",
    "#Combining the two wine databases\n",
    "wines = pd.concat([red_wine, white_wine])\n",
    "wines = wines.sample(\n",
    "    frac=1,\n",
    "    random_state=42\n",
    "    ).reset_index(drop=True)"
   ]
  },
  {
   "cell_type": "code",
   "execution_count": 13,
   "metadata": {},
   "outputs": [],
   "source": [
    "x=wines.drop([\"quality\", \"quality_label\"], axis=1)\n",
    "y=wines[\"quality_label\"]\n",
    "xtrain, xtest, ytrain, ytest = train_test_split(\n",
    "    x,\n",
    "    y,\n",
    "    test_size=0.2,\n",
    "    random_state=42,\n",
    "    stratify=y\n",
    "    )\n",
    "xtrain_norm = xtrain\n",
    "xtest_norm = xtest"
   ]
  },
  {
   "cell_type": "code",
   "execution_count": 14,
   "metadata": {},
   "outputs": [
    {
     "name": "stderr",
     "output_type": "stream",
     "text": [
      "UsageError: Line magic function `%%script` not found.\n"
     ]
    }
   ],
   "source": [
    "#Data is normalised since distribution for all except pH is skewed\n",
    "#Normalisation only has a noticeable impact in non RF methods, and it's better with StandardScaler\n",
    "#However it results in lost of variance, concentrating most wines in one quality\n",
    "#If not normalised, the accuracy is less than 50%. With normalisation it it around 57%.\n",
    "%%script False\n",
    "norm = StandardScaler()\n",
    "norm_fit = norm.fit(xtrain)\n",
    "xtrain_norm = norm_fit.transform(xtrain)\n",
    "xtest_norm = norm_fit.transform(xtest)"
   ]
  },
  {
   "cell_type": "code",
   "execution_count": 15,
   "metadata": {},
   "outputs": [
    {
     "data": {
      "image/png": "[encoded data removed]",
      "text/plain": [
       "<Figure size 432x288 with 1 Axes>"
      ]
     },
     "metadata": {
      "needs_background": "light"
     },
     "output_type": "display_data"
    }
   ],
   "source": [
    "#Feature visualization for RF\n",
    "temp = RandomForestClassifier(n_estimators=100)\n",
    "temp.fit(xtrain, ytrain)\n",
    "feature_imp = pd.Series(\n",
    "    temp.feature_importances_,\n",
    "    index = x.columns[:12]\n",
    "    ).sort_values(ascending=False\n",
    "    )\n",
    "feature_imp.index = feature_imp.index.str.replace(\"_\", \" \")\n",
    "feature_imp.index = feature_imp.index.str.capitalize()\n",
    "sns.barplot(\n",
    "    x=feature_imp,\n",
    "    y=feature_imp.index,\n",
    "    palette=\"rocket\",\n",
    "    color=\"snow\"\n",
    "    ).set_facecolor(color=\"snow\"\n",
    "    )\n",
    "plt.xlabel(\"Importance score\", fontsize=13)\n",
    "plt.ylabel(\"Features\", fontsize=13)\n",
    "plt.title(\"Feature importance visualization\", fontsize=15)\n",
    "plt.show()"
   ]
  },
  {
   "cell_type": "code",
   "execution_count": 16,
   "metadata": {},
   "outputs": [],
   "source": [
    "# RandomizedSearch parameter tuning\n",
    "# n_estimators = [200, 400, 600, 800, 1000]\n",
    "# max_features = [\"auto\", \"sqrt\", \"log2\", 0.3]\n",
    "# max_depth = [int(x) for x in np.linspace(10,100,num=10)]\n",
    "# max_depth.append(None)\n",
    "# min_samples_split = [1, 2, 3, 4, 5]\n",
    "# min_samples_leaf = [1, 2, 3, 4]\n",
    "# bootstrap = [True, False]\n",
    "# grid = {\n",
    "#     \"n_estimators\": n_estimators, \n",
    "#     \"max_features\": max_features,\n",
    "#     \"max_depth\": max_depth,\n",
    "#     \"min_samples_split\":min_samples_split,\n",
    "#     \"min_samples_leaf\":min_samples_leaf,\n",
    "#     \"bootstrap\":bootstrap\n",
    "#     }\n",
    "# rf = RandomForestRegressor()\n",
    "# random_grid = RandomizedSearchCV(\n",
    "#     estimator=rf,\n",
    "#     param_distributions=grid,\n",
    "#     n_iter=100,\n",
    "#     cv=3,\n",
    "#     verbose=2,\n",
    "#     random_state=42,\n",
    "#     n_jobs=-1\n",
    "#     )\n",
    "# random_grid.fit(xtrain,ytrain)\n",
    "# print(random_grid.best_params_)"
   ]
  },
  {
   "cell_type": "code",
   "execution_count": 17,
   "metadata": {},
   "outputs": [],
   "source": [
    "# #GridSearch parameter tuning\n",
    "# n_estimators = [ 500, 600, 700]\n",
    "# max_features = [\"auto\", \"log2\", 0.3]\n",
    "# max_depth = [50, 60, 70]\n",
    "# min_samples_split = [1, 2, 3]\n",
    "# min_samples_leaf = [2, 3, 4]\n",
    "# bootstrap = [False, True]\n",
    "# best_grid={\n",
    "#     \"bootstrap\": bootstrap,\n",
    "#     \"max_depth\": max_depth,\n",
    "#     \"max_features\": max_features,\n",
    "#     \"min_samples_leaf\": min_samples_leaf,\n",
    "#     \"min_samples_split\": min_samples_split,\n",
    "#     \"n_estimators\": n_estimators\n",
    "#     }\n",
    "# rf = RandomForestRegressor()\n",
    "# grid_search = GridSearchCV(\n",
    "#     estimator=rf,\n",
    "#     param_grid=best_grid,\n",
    "#     cv=3,\n",
    "#     n_jobs=-1,\n",
    "#     verbose=2\n",
    "#     )\n",
    "# grid_search.fit(xtrain_norm,ytrain)\n",
    "# print(grid_search.best_params_)"
   ]
  },
  {
   "cell_type": "code",
   "execution_count": 18,
   "metadata": {},
   "outputs": [],
   "source": [
    "#Hyperparamater for quality label depending on dataset:\n",
    "    #RED WINES\n",
    "strap = False\n",
    "depth = 60\n",
    "features = \"log2\"\n",
    "samples_leaf = 1\n",
    "samples_split = 3\n",
    "estimators = 900\n",
    "oob = False\n",
    "    #WHITE WINES\n",
    "strap = False\n",
    "depth = 50\n",
    "features = \"log2\"\n",
    "samples_leaf = 1\n",
    "samples_split = 2\n",
    "estimators = 700\n",
    "oob = False\n",
    "    #COMBINED\n",
    "strap = False\n",
    "depth = 50\n",
    "features = \"log2\"\n",
    "samples_leaf = 2\n",
    "samples_split = 3\n",
    "estimators = 700 \n",
    "oob = False\n",
    "#Hyperparamater for quality depending on dataset:\n",
    "    #RED WINES\n",
    "strap = False\n",
    "depth = 100\n",
    "features = \"sqrt\"\n",
    "samples_leaf = 2\n",
    "samples_split = 2\n",
    "estimators = 1000\n",
    "oob = False\n",
    "    #WHITE WINES\n",
    "strap = False\n",
    "depth = 50\n",
    "features = \"log2\"\n",
    "samples_leaf = 2\n",
    "samples_split = 3\n",
    "estimators = 700\n",
    "oob = False\n",
    "    #COMBINED\n",
    "strap = False\n",
    "depth = 60\n",
    "features = 0.3\n",
    "samples_leaf = 2\n",
    "samples_split = 2\n",
    "estimators = 600\n",
    "oob = False"
   ]
  },
  {
   "cell_type": "code",
   "execution_count": 19,
   "metadata": {},
   "outputs": [],
   "source": [
    "#Quality_Label_Red = 70%\n",
    "#Quality_Label_White = 74%\n",
    "#Quality_Label_Combined = 71%\n",
    "#Quality_Red = 69%\n",
    "#Quality_White = 70%\n",
    "#Quality_Combined = 69%"
   ]
  },
  {
   "cell_type": "code",
   "execution_count": 20,
   "metadata": {},
   "outputs": [],
   "source": [
    "strap = False\n",
    "depth = 50\n",
    "features = \"log2\"\n",
    "samples_leaf = 2\n",
    "samples_split = 3\n",
    "estimators = 700\n",
    "oob = False"
   ]
  },
  {
   "cell_type": "code",
   "execution_count": 21,
   "metadata": {},
   "outputs": [
    {
     "name": "stdout",
     "output_type": "stream",
     "text": [
      "0.7392307692307692\n",
      "              precision    recall  f1-score   support\n",
      "\n",
      "           0       0.78      0.78      0.78       477\n",
      "           1       0.70      0.75      0.72       567\n",
      "           2       0.74      0.65      0.69       256\n",
      "\n",
      "    accuracy                           0.74      1300\n",
      "   macro avg       0.74      0.72      0.73      1300\n",
      "weighted avg       0.74      0.74      0.74      1300\n",
      "\n"
     ]
    },
    {
     "data": {
      "image/png": "[encoded data removed]",
      "text/plain": [
       "<Figure size 432x288 with 2 Axes>"
      ]
     },
     "metadata": {
      "needs_background": "light"
     },
     "output_type": "display_data"
    }
   ],
   "source": [
    "rf = RandomForestClassifier(\n",
    "    n_estimators=estimators,\n",
    "    max_depth=depth,\n",
    "    max_features=features,\n",
    "    min_samples_leaf=samples_leaf,\n",
    "    min_samples_split=samples_split,\n",
    "    bootstrap=strap,\n",
    "    oob_score=oob,\n",
    "    n_jobs=-1\n",
    "    )\n",
    "rf.fit(xtrain_norm, ytrain)\n",
    "pred_rf = rf.predict(xtest_norm)\n",
    "a_rf = accuracy_score(ytest, pred_rf)\n",
    "print(a_rf)\n",
    "print(classification_report(ytest, pred_rf))\n",
    "ax = plt.subplot()\n",
    "cm = confusion_matrix(ytest, pred_rf, normalize=\"pred\")\n",
    "sns.heatmap(\n",
    "    cm,\n",
    "    ax=ax,\n",
    "    fmt=\".2f\",\n",
    "    annot=True,\n",
    "    cmap=\"YlOrRd\",\n",
    "    xticklabels = ([\"Low\",\"Medium\",\"High\"]),\n",
    "    yticklabels = ([\"Low\",\"Medium\",\"High\"])\n",
    "    )\n",
    "ax.set_xlabel(\"Predicted label\"); ax.set_ylabel(\"True label\")\n",
    "ax.set_label(\"Prediction accuracy\")\n",
    "plt.show()"
   ]
  },
  {
   "cell_type": "code",
   "execution_count": 28,
   "metadata": {},
   "outputs": [
    {
     "name": "stdout",
     "output_type": "stream",
     "text": [
      "0.5\n",
      "              precision    recall  f1-score   support\n",
      "\n",
      "           0       0.58      0.48      0.53       477\n",
      "           1       0.47      0.64      0.55       567\n",
      "           2       0.42      0.21      0.28       256\n",
      "\n",
      "    accuracy                           0.50      1300\n",
      "   macro avg       0.49      0.45      0.45      1300\n",
      "weighted avg       0.50      0.50      0.49      1300\n",
      "\n"
     ]
    },
    {
     "name": "stderr",
     "output_type": "stream",
     "text": [
      "c:\\Users\\giorg\\anaconda3\\lib\\site-packages\\sklearn\\linear_model\\_logistic.py:814: ConvergenceWarning: lbfgs failed to converge (status=1):\n",
      "STOP: TOTAL NO. of ITERATIONS REACHED LIMIT.\n",
      "\n",
      "Increase the number of iterations (max_iter) or scale the data as shown in:\n",
      "    https://scikit-learn.org/stable/modules/preprocessing.html\n",
      "Please also refer to the documentation for alternative solver options:\n",
      "    https://scikit-learn.org/stable/modules/linear_model.html#logistic-regression\n",
      "  n_iter_i = _check_optimize_result(\n"
     ]
    },
    {
     "data": {
      "image/png": "[encoded data removed]",
      "text/plain": [
       "<Figure size 432x288 with 2 Axes>"
      ]
     },
     "metadata": {
      "needs_background": "light"
     },
     "output_type": "display_data"
    }
   ],
   "source": [
    "#Logistic Regreession ~55%\n",
    "lr = LogisticRegression()\n",
    "lr.fit(xtrain_norm, ytrain)\n",
    "pred_lr = lr.predict(xtest_norm)\n",
    "a_lr = accuracy_score(ytest, pred_lr)\n",
    "print(a_lr)\n",
    "print(classification_report(ytest, pred_lr))\n",
    "ax = plt.subplot()\n",
    "cm = confusion_matrix(ytest, pred_lr, normalize=\"pred\")\n",
    "sns.heatmap(\n",
    "    cm,\n",
    "    ax=ax,\n",
    "    fmt=\".2f\",\n",
    "    annot=True,\n",
    "    cmap=\"YlOrRd\",\n",
    "    xticklabels = ([\"Low\",\"Medium\",\"High\"]),\n",
    "    yticklabels = ([\"Low\",\"Medium\",\"High\"])\n",
    "    )\n",
    "ax.set_xlabel(\"Predicted label\"); ax.set_ylabel(\"True label\")\n",
    "ax.set_label(\"Prediction accuracy\")\n",
    "plt.show()\n"
   ]
  },
  {
   "cell_type": "code",
   "execution_count": 29,
   "metadata": {},
   "outputs": [
    {
     "name": "stdout",
     "output_type": "stream",
     "text": [
      "0.5738461538461539\n",
      "              precision    recall  f1-score   support\n",
      "\n",
      "           0       0.62      0.65      0.64       477\n",
      "           1       0.54      0.67      0.59       567\n",
      "           2       0.59      0.23      0.33       256\n",
      "\n",
      "    accuracy                           0.57      1300\n",
      "   macro avg       0.58      0.51      0.52      1300\n",
      "weighted avg       0.58      0.57      0.56      1300\n",
      "\n"
     ]
    },
    {
     "data": {
      "image/png": "[encoded data removed]",
      "text/plain": [
       "<Figure size 432x288 with 2 Axes>"
      ]
     },
     "metadata": {
      "needs_background": "light"
     },
     "output_type": "display_data"
    }
   ],
   "source": [
    "#SVC ~57%\n",
    "svc = SVC(C=1000)\n",
    "svc.fit(xtrain_norm, ytrain)\n",
    "pred_svc = svc.predict(xtest_norm)\n",
    "a_svc = accuracy_score(ytest, pred_svc)\n",
    "print(a_svc)\n",
    "print(classification_report(ytest, pred_svc))\n",
    "ax = plt.subplot()\n",
    "cm = confusion_matrix(ytest, pred_svc, normalize=\"pred\")\n",
    "sns.heatmap(\n",
    "    cm,\n",
    "    ax=ax,\n",
    "    fmt=\".2f\",\n",
    "    annot=True,\n",
    "    cmap=\"YlOrRd\",\n",
    "    xticklabels = ([\"Low\",\"Medium\",\"High\"]),\n",
    "    yticklabels = ([\"Low\",\"Medium\",\"High\"])\n",
    "    )\n",
    "ax.set_xlabel(\"Predicted label\"); ax.set_ylabel(\"True label\")\n",
    "ax.set_label(\"Prediction accuracy\")\n",
    "plt.show()\n"
   ]
  },
  {
   "cell_type": "code",
   "execution_count": 30,
   "metadata": {},
   "outputs": [
    {
     "name": "stdout",
     "output_type": "stream",
     "text": [
      "0.4869230769230769\n",
      "              precision    recall  f1-score   support\n",
      "\n",
      "           0       0.51      0.54      0.53       477\n",
      "           1       0.48      0.62      0.54       567\n",
      "           2       0.37      0.10      0.16       256\n",
      "\n",
      "    accuracy                           0.49      1300\n",
      "   macro avg       0.45      0.42      0.41      1300\n",
      "weighted avg       0.47      0.49      0.46      1300\n",
      "\n"
     ]
    },
    {
     "data": {
      "image/png": "[encoded data removed]",
      "text/plain": [
       "<Figure size 432x288 with 2 Axes>"
      ]
     },
     "metadata": {
      "needs_background": "light"
     },
     "output_type": "display_data"
    }
   ],
   "source": [
    "#KNN ~58%\n",
    "knn = KNeighborsClassifier(n_neighbors=50, leaf_size=20)\n",
    "knn.fit(xtrain_norm, ytrain)\n",
    "pred_knn = knn.predict(xtest_norm)\n",
    "a_knn = accuracy_score(ytest, pred_knn)\n",
    "print(a_knn)\n",
    "print(classification_report(ytest, pred_knn))\n",
    "ax = plt.subplot()\n",
    "cm = confusion_matrix(ytest, pred_knn, normalize=\"pred\")\n",
    "sns.heatmap(\n",
    "    cm,\n",
    "    ax=ax,\n",
    "    fmt=\".2f\",\n",
    "    annot=True,\n",
    "    cmap=\"YlOrRd\",\n",
    "    xticklabels = ([\"Low\",\"Medium\",\"High\"]),\n",
    "    yticklabels = ([\"Low\",\"Medium\",\"High\"])\n",
    "    )\n",
    "ax.set_xlabel(\"Predicted label\"); ax.set_ylabel(\"True label\")\n",
    "ax.set_label(\"Prediction accuracy\")\n",
    "plt.show()"
   ]
  },
  {
   "cell_type": "code",
   "execution_count": 31,
   "metadata": {},
   "outputs": [
    {
     "data": {
      "text/plain": [
       "Text(0.5, 1.0, 'Comperative accuracy of different models')"
      ]
     },
     "execution_count": 31,
     "metadata": {},
     "output_type": "execute_result"
    },
    {
     "data": {
      "image/png": "[encoded data removed]",
      "text/plain": [
       "<Figure size 432x288 with 1 Axes>"
      ]
     },
     "metadata": {
      "needs_background": "light"
     },
     "output_type": "display_data"
    }
   ],
   "source": [
    "%matplotlib inline\n",
    "mods = pd.DataFrame({\n",
    "    \"Ensemble\":[\n",
    "        \"RandomForest\",\n",
    "        \"LogisticRegression\",\n",
    "        \"SupportVector\",\n",
    "        \"KNeighbors\"\n",
    "        ],\n",
    "    \"Accuracy\":[\n",
    "            a_rf,\n",
    "            a_lr,\n",
    "            a_svc,\n",
    "            a_knn\n",
    "        ]\n",
    "    })\n",
    "mods.sort_values(\n",
    "    by=\"Accuracy\",\n",
    "    ascending=False,\n",
    "    inplace=True\n",
    "    )\n",
    "sns.barplot(\n",
    "    x=\"Accuracy\",\n",
    "    y=\"Ensemble\",\n",
    "    data = mods\n",
    "    ).set_facecolor(color=\"snow\")\n",
    "plt.title(\"Comperative accuracy of different models\", fontsize=15)"
   ]
  }
 ],
 "metadata": {
  "interpreter": {
   "hash": "34ab73eb2a201c4b750598ec4bd41f14c725bb809bc0c8207569acb80dee3ff5"
  },
  "kernelspec": {
   "display_name": "Python 3.9.7 ('base')",
   "language": "python",
   "name": "python3"
  },
  "language_info": {
   "codemirror_mode": {
    "name": "ipython",
    "version": 3
   },
   "file_extension": ".py",
   "mimetype": "text/x-python",
   "name": "python",
   "nbconvert_exporter": "python",
   "pygments_lexer": "ipython3",
   "version": "3.9.7"
  },
  "orig_nbformat": 4
 },
 "nbformat": 4,
 "nbformat_minor": 2
}
