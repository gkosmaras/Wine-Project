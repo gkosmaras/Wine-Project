{
 "cells": [
  {
   "cell_type": "code",
   "execution_count": 30,
   "metadata": {},
   "outputs": [],
   "source": [
    "import numpy as np\n",
    "import pandas as pd\n",
    "from pandas_profiling import ProfileReport\n",
    "import sweetviz as sv\n",
    "import dtale\n",
    "import seaborn as sns\n",
    "import matplotlib.pyplot as plt\n",
    "from sklearn import preprocessing\n",
    "from sklearn.model_selection import train_test_split\n",
    "from sklearn.preprocessing import MinMaxScaler\n",
    "from sklearn.linear_model import LogisticRegression\n",
    "from sklearn.metrics import ConfusionMatrixDisplay\n",
    "from pandas.plotting import andrews_curves\n",
    "from statsmodels.nonparametric.smoothers_lowess import lowess\n",
    "import scipy.stats as sps\n",
    "import matplotlib.patches as mpatches\n",
    "red_wine=pd.read_csv(\"winequality-red.csv\",sep=\";\")\n",
    "white_wine=pd.read_csv(\"winequality-white.csv\",sep=\";\")\n",
    "#Column renaming according to usual conventions\n",
    "red_wine.columns=red_wine.columns.str.replace(\" \",\"_\")\n",
    "white_wine.columns=white_wine.columns.str.replace(\" \",\"_\")\n",
    "red_wine[\"type\"]=1\n",
    "white_wine[\"type\"]=0\n",
    "#Categorization of quality into three groups\n",
    "red_wine[\"quality_label\"] = red_wine[\"quality\"].apply(lambda value: \"low\" if value<=5 else \"medium\" if value< 7 else \"high\")\n",
    "white_wine[\"quality_label\"]=white_wine[\"quality\"].apply(lambda value: \"low\" if value<=5 else \"medium\" if value< 7 else \"high\")\n",
    "red_wine[\"quality_label\"]=pd.Categorical(red_wine[\"quality_label\"],categories=[\"low\",\"medium\",\"high\"])\n",
    "white_wine[\"quality_label\"]=pd.Categorical(white_wine[\"quality_label\"],categories=[\"low\",\"medium\",\"high\"])\n",
    "#Combining the two wine databases\n",
    "wines=pd.concat([red_wine,white_wine])\n",
    "wines=wines.sample(frac=1,random_state=42).reset_index(drop=True)"
   ]
  },
  {
   "cell_type": "code",
   "execution_count": 2,
   "metadata": {},
   "outputs": [],
   "source": [
    "#FUNCTIONS\n",
    "#Frequency analysis for specific feature on both types\n",
    "def freq(x):\n",
    "    fig,axes=plt.subplots(nrows=1,ncols=2,sharey=True,sharex=True,figsize=(10,4),facecolor=\"snow\")\n",
    "    wines.hist(column=x,by=\"type\",ax=axes,color=\"crimson\",edgecolor=\"black\",linewidth=1)\n",
    "    x=x.replace(\"_\",\" \")\n",
    "    x=x.capitalize()\n",
    "    fig.supxlabel(x)\n",
    "    x+=\" content in wines\"\n",
    "    plt.suptitle(x,x=0.5,y=1.05,ha=\"center\",fontsize=\"x-large\")\n",
    "    fig.supylabel(\"Frequency\")\n",
    "    axes[0].set_title(\"Red Wines\")\n",
    "    axes[1].set_title(\"White Wines\")\n",
    "#Creates a boxplot for variables xy to z of winetype dataset. If out==False removes outliers\n",
    "def boxplotter(x,y,z,winetype,out):\n",
    "    fig, axes = plt.subplots(1,2, figsize=(10,10),facecolor=\"snow\")\n",
    "    temp=winetype[[z,x]]\n",
    "    temp.boxplot(by=z, ax=axes[0],showfliers=out,color=\"dimgray\");axes[0].set_title(\"\"); axes[0].set_xlabel(z); axes[0].set_ylabel(x)\n",
    "    temp=winetype[[z,y]]\n",
    "    temp.boxplot(by=z, ax=axes[1],showfliers=out,color=\"dimgray\");axes[1].set_title(\"\"); axes[1].set_xlabel(z); axes[1].set_ylabel(y)\n",
    "#Normalizes a dataset\n",
    "def normalizer(df): \n",
    "    df=df.drop([\"type\",\"quality_label\"],axis=1)\n",
    "    scaler=MinMaxScaler()\n",
    "    scaler.fit(df)\n",
    "    scaled=scaler.fit_transform(df)\n",
    "    scaled_df=pd.DataFrame(scaled,columns=df.columns)\n",
    "    return scaled_df\n",
    "#Takes a,b variables for x and y axis respectively; nor is a boolean value for normalization\n",
    "def plotter(a,b,c,d,nor):\n",
    "    if nor:\n",
    "        c=normalizer(c)\n",
    "        d=normalizer(d)\n",
    "    fig, axes = plt.subplots(1,2, figsize=(14,7),facecolor=\"snow\")\n",
    "    x=sns.regplot(ax=axes[0],x=c[a],y=c[b],lowess=True,scatter_kws={\"color\":\"crimson\"},line_kws={\"color\":\"black\"})\n",
    "    y=sns.regplot(ax=axes[1],x=d[a],y=d[b],lowess=True,scatter_kws={\"color\":\"crimson\"},line_kws={\"color\":\"black\"})\n",
    "    return x,y\n",
    "#Graphs relationship between x,y variables on df dataset\n",
    "def rel_check(x,y,df):\n",
    "    gg=sns.JointGrid(x=x,y=y,data=df)\n",
    "    gg=gg.plot_joint(sns.regplot,color=\"crimson\")\n",
    "    gg=gg.plot_marginals(sns.histplot,kde=True,color=\"goldenrod\")\n",
    "    return gg\n",
    "#Multigraphs kde,scatter and hist for all variables (It takes time)\n",
    "def exp(df):\n",
    "    pp = sns.PairGrid(df)\n",
    "    pp = pp.map_upper(sns.kdeplot,cmap=\"hot\",shade=True,thresh=False)\n",
    "    pp = pp.map_diag(plt.hist,color=\"darkgrey\")\n",
    "    pp = pp.map_lower(sns.scatterplot,color=\"crimson\",edgecolor=\"black\")\n",
    "    return pp\n",
    "#Used for the removal of outliers\n",
    "def correction(df):\n",
    "    labels=[\"fixed_acidity\",\"volatile_acidity\",\"citric_acid\",\"residual_sugar\",\"chlorides\",\"free_sulfur_dioxide\",\"total_sulfur_dioxide\",\"density\",\"sulphates\",\"alcohol\",\"quality\"]\n",
    "    sorted(df)\n",
    "    for i in labels:\n",
    "        q1=df[i].quantile(0.25)\n",
    "        q3=df[i].quantile(0.75)\n",
    "        iqr=q3-q1\n",
    "        low=q1-1.5*iqr\n",
    "        high=q3+1.5*iqr \n",
    "        df=df.loc[(df[i]>low) & (df[i]<high)]\n",
    "    return df\n",
    "#Multivariate analysis with x,y features of df dataset, with quality label hue\n",
    "def multivariate(x,y,df):\n",
    "    colors={\"low\":\"yellow\",\"medium\":\"crimson\",\"high\":\"black\"}\n",
    "    fig,axes=plt.subplots(figsize=(12,8),facecolor=\"snow\")\n",
    "    scatter=axes.scatter(df[x],df[y],c=df[\"quality_label\"].map(colors),alpha=0.5)\n",
    "    x=x.replace(\"_\",\" \").capitalize()+\", \"\n",
    "    axes.set_xlabel(x,fontsize=10)\n",
    "    y=y.replace(\"_\",\" \")+\" \"\n",
    "    axes.set_ylabel(y,fontsize=10)\n",
    "    if len(df[\"type\"].unique())==2: title=\"Wines\"\n",
    "    elif 1 in df[\"type\"].unique(): title=\"Red wines\"\n",
    "    else: title=\"White wines\" \n",
    "    axes.set_title(title+\" - \"+x +y+ \"and quality\")\n",
    "    low_quality=mpatches.Patch(color=\"yellow\",label=\"Low quality wines\")\n",
    "    medium_quality=mpatches.Patch(color=\"crimson\",label=\"Medium quality wines\")\n",
    "    high_quality=mpatches.Patch(color=\"black\",label=\"Higher quality wines\")\n",
    "    axes.legend(handles=[low_quality,medium_quality,high_quality])\n",
    "    plt.show()"
   ]
  },
  {
   "cell_type": "code",
   "execution_count": 3,
   "metadata": {},
   "outputs": [],
   "source": [
    "#Solving for times*0.05*std from any variable x's mean; so that at least 75% is of a particular quality or high label\n",
    "#Returns the wines within the greatest range and the times \n",
    "def expanding_circles(x,df,rank,labels):\n",
    "    per=[3,4,5,6,7,8,9]\n",
    "    ind=rank-3\n",
    "    incr=0.05\n",
    "    times=0\n",
    "    marker=\"quality\"\n",
    "    if labels:\n",
    "        per=[\"low\",\"medium\",1]\n",
    "        ind=2\n",
    "        rank=\"high\"\n",
    "        marker=\"quality_label\"\n",
    "    while per[ind]>=0.75:\n",
    "        temp=df.loc[(df[marker]==rank)]\n",
    "        high_mean=temp[x].mean()\n",
    "        high_std=temp[x].std()\n",
    "        upper_bound=high_mean+incr*high_std\n",
    "        lower_bound=high_mean-incr*high_std\n",
    "        incr+=0.05\n",
    "        times+=1\n",
    "        temp=(df.loc[(df[x]<upper_bound)&(df[x]>lower_bound)])\n",
    "        per=(temp[marker].value_counts(normalize=True))\n",
    "        a=(df.loc[(df[x]<upper_bound)&(df[x]>lower_bound)])\n",
    "        return a,times\n"
   ]
  },
  {
   "cell_type": "code",
   "execution_count": 4,
   "metadata": {},
   "outputs": [
    {
     "name": "stderr",
     "output_type": "stream",
     "text": [
      "findfont: Font family ['Heiti TC'] not found. Falling back to DejaVu Sans.\n"
     ]
    },
    {
     "data": {
      "text/html": [
       "<div>\n",
       "<style scoped>\n",
       "    .dataframe tbody tr th:only-of-type {\n",
       "        vertical-align: middle;\n",
       "    }\n",
       "\n",
       "    .dataframe tbody tr th {\n",
       "        vertical-align: top;\n",
       "    }\n",
       "\n",
       "    .dataframe thead th {\n",
       "        text-align: right;\n",
       "    }\n",
       "</style>\n",
       "<table border=\"1\" class=\"dataframe\">\n",
       "  <thead>\n",
       "    <tr style=\"text-align: right;\">\n",
       "      <th></th>\n",
       "      <th>quality</th>\n",
       "    </tr>\n",
       "  </thead>\n",
       "  <tbody>\n",
       "    <tr>\n",
       "      <th>quality</th>\n",
       "      <td>1.000000</td>\n",
       "    </tr>\n",
       "    <tr>\n",
       "      <th>alcohol</th>\n",
       "      <td>0.435575</td>\n",
       "    </tr>\n",
       "    <tr>\n",
       "      <th>pH</th>\n",
       "      <td>0.099427</td>\n",
       "    </tr>\n",
       "    <tr>\n",
       "      <th>sulphates</th>\n",
       "      <td>0.053678</td>\n",
       "    </tr>\n",
       "    <tr>\n",
       "      <th>free_sulfur_dioxide</th>\n",
       "      <td>0.008158</td>\n",
       "    </tr>\n",
       "    <tr>\n",
       "      <th>citric_acid</th>\n",
       "      <td>-0.009209</td>\n",
       "    </tr>\n",
       "    <tr>\n",
       "      <th>crisp</th>\n",
       "      <td>-0.013264</td>\n",
       "    </tr>\n",
       "    <tr>\n",
       "      <th>residual_sugar</th>\n",
       "      <td>-0.097577</td>\n",
       "    </tr>\n",
       "    <tr>\n",
       "      <th>fixed_acidity</th>\n",
       "      <td>-0.113663</td>\n",
       "    </tr>\n",
       "    <tr>\n",
       "      <th>total_acidity</th>\n",
       "      <td>-0.131377</td>\n",
       "    </tr>\n",
       "    <tr>\n",
       "      <th>total_sulfur_dioxide</th>\n",
       "      <td>-0.174737</td>\n",
       "    </tr>\n",
       "    <tr>\n",
       "      <th>volatile_acidity</th>\n",
       "      <td>-0.194723</td>\n",
       "    </tr>\n",
       "    <tr>\n",
       "      <th>chlorides</th>\n",
       "      <td>-0.209934</td>\n",
       "    </tr>\n",
       "    <tr>\n",
       "      <th>density</th>\n",
       "      <td>-0.307123</td>\n",
       "    </tr>\n",
       "    <tr>\n",
       "      <th>type</th>\n",
       "      <td>NaN</td>\n",
       "    </tr>\n",
       "  </tbody>\n",
       "</table>\n",
       "</div>"
      ],
      "text/plain": [
       "                       quality\n",
       "quality               1.000000\n",
       "alcohol               0.435575\n",
       "pH                    0.099427\n",
       "sulphates             0.053678\n",
       "free_sulfur_dioxide   0.008158\n",
       "citric_acid          -0.009209\n",
       "crisp                -0.013264\n",
       "residual_sugar       -0.097577\n",
       "fixed_acidity        -0.113663\n",
       "total_acidity        -0.131377\n",
       "total_sulfur_dioxide -0.174737\n",
       "volatile_acidity     -0.194723\n",
       "chlorides            -0.209934\n",
       "density              -0.307123\n",
       "type                       NaN"
      ]
     },
     "execution_count": 4,
     "metadata": {},
     "output_type": "execute_result"
    },
    {
     "name": "stderr",
     "output_type": "stream",
     "text": [
      "findfont: Font family ['Heiti TC'] not found. Falling back to DejaVu Sans.\n"
     ]
    }
   ],
   "source": [
    "a=white_wine\n",
    "a[\"total_acidity\"]=a.volatile_acidity+a.fixed_acidity+a.citric_acid\n",
    "a[\"crisp\"]=a.total_acidity/a.residual_sugar\n",
    "plt.figure(figsize=(12,8))\n",
    "sns.heatmap(a.corr().round(2),color=\"k\",linecolor=\"snow\",linewidth=0.2,annot=True)\n",
    "plt.xticks(rotation=45)\n",
    "plt.title(\"Heatmap of white wines\", fontsize=15)\n",
    "plt.show()\n",
    "a.corr()[[\"quality\"]].sort_values(by=\"quality\",ascending=False)"
   ]
  },
  {
   "cell_type": "code",
   "execution_count": 12,
   "metadata": {},
   "outputs": [],
   "source": [
    "temp1=red_wine.drop(\"quality_label\",axis=1)\n",
    "temp2=white_wine.drop(\"quality_label\",axis=1)"
   ]
  },
  {
   "cell_type": "code",
   "execution_count": null,
   "metadata": {},
   "outputs": [],
   "source": [
    "profile = ProfileReport(temp1, title=\"Pandas Profiling Report\", explorative=True)"
   ]
  },
  {
   "cell_type": "code",
   "execution_count": null,
   "metadata": {},
   "outputs": [],
   "source": [
    "dtale.show(temp1)"
   ]
  },
  {
   "cell_type": "code",
   "execution_count": null,
   "metadata": {},
   "outputs": [],
   "source": [
    "comparison_report=sv.compare([temp1,\"quality\"],[temp2,\"quality\"])"
   ]
  },
  {
   "cell_type": "code",
   "execution_count": null,
   "metadata": {},
   "outputs": [
    {
     "data": {
      "text/plain": [
       "<AxesSubplot:xlabel='alcohol', ylabel='sulphates'>"
      ]
     },
     "execution_count": 84,
     "metadata": {},
     "output_type": "execute_result"
    },
    {
     "data": {
      "image/png": "[encoded data removed]",
      "text/plain": [
       "<Figure size 800x550 with 1 Axes>"
      ]
     },
     "metadata": {},
     "output_type": "display_data"
    }
   ],
   "source": [
    "sns.kdeplot(data=red_wine,x=\"alcohol\",y=\"sulphates\",hue=\"quality_label\",levels=5,thresh=0.2)"
   ]
  },
  {
   "cell_type": "code",
   "execution_count": 25,
   "metadata": {},
   "outputs": [],
   "source": [
    "ww=white_wine\n",
    "x=ww.quality\n",
    "ww.drop([\"quality_label\",\"quality\"],axis=1, inplace=True)\n",
    "ww_train,ww_test,x_train,x_test = train_test_split(ww,x, test_size=0.2, random_state=42)"
   ]
  },
  {
   "cell_type": "code",
   "execution_count": 26,
   "metadata": {},
   "outputs": [],
   "source": [
    "norm=MinMaxScaler().fit(ww_train)\n",
    "ww_norm=norm.transform(ww_train)\n",
    "ww_test_norm=norm.transform(ww_test)\n"
   ]
  },
  {
   "cell_type": "code",
   "execution_count": 29,
   "metadata": {},
   "outputs": [],
   "source": [
    "lr=LogisticRegression()\n",
    "lr.fit(ww_train,x_train)\n",
    "pred_lr=lr.predict(ww_train)"
   ]
  },
  {
   "cell_type": "code",
   "execution_count": 33,
   "metadata": {},
   "outputs": [
    {
     "name": "stdout",
     "output_type": "stream",
     "text": [
      "confusion matrix\n",
      "<sklearn.metrics._plot.confusion_matrix.ConfusionMatrixDisplay object at 0x0000020BA337BDF0>\n"
     ]
    }
   ],
   "source": [
    "print(\"Confusion matrix:\")\n",
    "print(ConfusionMatrixDisplay(x_test,pred_lr))"
   ]
  }
 ],
 "metadata": {
  "interpreter": {
   "hash": "d4ca260931255454fde840190d1592bc9540e5d22da7c62476b4271349462b5e"
  },
  "kernelspec": {
   "display_name": "Python 3.9.7 ('base')",
   "language": "python",
   "name": "python3"
  },
  "language_info": {
   "codemirror_mode": {
    "name": "ipython",
    "version": 3
   },
   "file_extension": ".py",
   "mimetype": "text/x-python",
   "name": "python",
   "nbconvert_exporter": "python",
   "pygments_lexer": "ipython3",
   "version": "3.9.7"
  },
  "orig_nbformat": 4
 },
 "nbformat": 4,
 "nbformat_minor": 2
}
