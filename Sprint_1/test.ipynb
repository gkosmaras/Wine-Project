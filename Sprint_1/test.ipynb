{
 "cells": [
  {
   "cell_type": "code",
   "execution_count": null,
   "metadata": {},
   "outputs": [],
   "source": [
    "import numpy as np\n",
    "import pandas as pd\n",
    "from pandas_profiling import ProfileReport\n",
    "import sweetviz as sv\n",
    "import dtale\n",
    "import seaborn as sns\n",
    "import matplotlib.pyplot as plt\n",
    "from sklearn import preprocessing\n",
    "from sklearn.preprocessing import MinMaxScaler\n",
    "from pandas.plotting import andrews_curves\n",
    "from statsmodels.nonparametric.smoothers_lowess import lowess\n",
    "import scipy.stats as sps\n",
    "import matplotlib.patches as mpatches\n",
    "red_wine=pd.read_csv(\"winequality-red.csv\",sep=\";\")\n",
    "white_wine=pd.read_csv(\"winequality-white.csv\",sep=\";\")\n",
    "#Column renaming according to usual conventions\n",
    "red_wine.columns=red_wine.columns.str.replace(\" \",\"_\")\n",
    "white_wine.columns=white_wine.columns.str.replace(\" \",\"_\")\n",
    "red_wine[\"type\"]=1\n",
    "white_wine[\"type\"]=0\n",
    "#Categorization of quality into three groups\n",
    "red_wine[\"quality_label\"] = red_wine[\"quality\"].apply(lambda value: \"low\" if value<=5 else \"medium\" if value< 7 else \"high\")\n",
    "white_wine[\"quality_label\"]=white_wine[\"quality\"].apply(lambda value: \"low\" if value<=5 else \"medium\" if value< 7 else \"high\")\n",
    "red_wine[\"quality_label\"]=pd.Categorical(red_wine[\"quality_label\"],categories=[\"low\",\"medium\",\"high\"])\n",
    "white_wine[\"quality_label\"]=pd.Categorical(white_wine[\"quality_label\"],categories=[\"low\",\"medium\",\"high\"])\n",
    "#Combining the two wine databases\n",
    "wines=pd.concat([red_wine,white_wine])\n",
    "wines=wines.sample(frac=1,random_state=42).reset_index(drop=True)"
   ]
  },
  {
   "cell_type": "code",
   "execution_count": 17,
   "metadata": {},
   "outputs": [],
   "source": [
    "#FUNCTIONS\n",
    "#Frequency analysis for specific feature on both types\n",
    "def freq(x):\n",
    "    fig,axes=plt.subplots(nrows=1,ncols=2,sharey=True,sharex=True,figsize=(10,4),facecolor=\"snow\")\n",
    "    wines.hist(column=x,by=\"type\",ax=axes,color=\"crimson\",edgecolor=\"black\",linewidth=1)\n",
    "    x=x.replace(\"_\",\" \")\n",
    "    x=x.capitalize()\n",
    "    fig.supxlabel(x)\n",
    "    x+=\" content in wines\"\n",
    "    plt.suptitle(x,x=0.5,y=1.05,ha=\"center\",fontsize=\"x-large\")\n",
    "    fig.supylabel(\"Frequency\")\n",
    "    axes[0].set_title(\"Red Wines\")\n",
    "    axes[1].set_title(\"White Wines\")\n",
    "#Creates a boxplot for variables xy to z of winetype dataset. If out==False removes outliers\n",
    "def boxplotter(x,y,z,df,out):\n",
    "    fig, axes = plt.subplots(1,2, figsize=(10,10),facecolor=\"snow\")\n",
    "    temp=df[[z,x]]\n",
    "    temp.boxplot(by=z, ax=axes[0],showfliers=out,color=\"dimgray\");axes[0].set_title(\"\"); axes[0].set_xlabel(z); axes[0].set_ylabel(x)\n",
    "    temp=df[[z,y]]\n",
    "    temp.boxplot(by=z, ax=axes[1],showfliers=out,color=\"dimgray\");axes[1].set_title(\"\"); axes[1].set_xlabel(z); axes[1].set_ylabel(y)\n",
    "#Normalizes a dataset\n",
    "def normalizer(df): \n",
    "    df=df.drop([\"type\",\"quality_label\"],axis=1)\n",
    "    scaler=MinMaxScaler()\n",
    "    scaler.fit(df)\n",
    "    scaled=scaler.fit_transform(df)\n",
    "    scaled_df=pd.DataFrame(scaled,columns=df.columns)\n",
    "    return scaled_df\n",
    "#Takes a,b variables for x and y axis respectively; nor is a boolean value for normalization\n",
    "def plotter(x,y,df1,df2,nor):\n",
    "    if nor:\n",
    "        df1=normalizer(df1)\n",
    "        df2=normalizer(df2)\n",
    "    fig, axes = plt.subplots(1,2, figsize=(14,7),facecolor=\"snow\")\n",
    "    x=sns.regplot(ax=axes[0],x=df1[x],y=df1[y],lowess=True,scatter_kws={\"color\":\"crimson\"},line_kws={\"color\":\"black\"})\n",
    "    y=sns.regplot(ax=axes[1],x=df2[x],y=df2[y],lowess=True,scatter_kws={\"color\":\"crimson\"},line_kws={\"color\":\"black\"})\n",
    "    return x,y\n",
    "#Graphs relationship between x,y variables on df dataset\n",
    "def rel_check(x,y,df):\n",
    "    gg=sns.JointGrid(x=x,y=y,data=df)\n",
    "    gg=gg.plot_joint(sns.regplot,color=\"crimson\")\n",
    "    gg=gg.plot_marginals(sns.histplot,kde=True,color=\"goldenrod\")\n",
    "    return gg\n",
    "#Multigraphs kde,scatter and hist for all variables (It takes time)\n",
    "def exp(df):\n",
    "    pp = sns.PairGrid(df)\n",
    "    pp = pp.map_upper(sns.kdeplot,cmap=\"hot\",shade=True,thresh=False)\n",
    "    pp = pp.map_diag(plt.hist,color=\"darkgrey\")\n",
    "    pp = pp.map_lower(sns.scatterplot,color=\"crimson\",edgecolor=\"black\")\n",
    "    return pp\n",
    "#Used for the removal of outliers\n",
    "def correction(df):\n",
    "    labels=[\"fixed_acidity\",\"volatile_acidity\",\"citric_acid\",\"residual_sugar\",\"chlorides\",\"free_sulfur_dioxide\",\"total_sulfur_dioxide\",\"density\",\"sulphates\",\"alcohol\",\"quality\"]\n",
    "    sorted(df)\n",
    "    for i in labels:\n",
    "        q1=df[i].quantile(0.25)\n",
    "        q3=df[i].quantile(0.75)\n",
    "        iqr=q3-q1\n",
    "        low=q1-1.5*iqr\n",
    "        high=q3+1.5*iqr \n",
    "        df=df.loc[(df[i]>low) & (df[i]<high)]\n",
    "    return df\n",
    "#Multivariate analysis with x,y features of df dataset, with quality label hue\n",
    "def multivariate(x,y,df):\n",
    "    colors={\"low\":\"yellow\",\"medium\":\"crimson\",\"high\":\"black\"}\n",
    "    fig,axes=plt.subplots(figsize=(12,8),facecolor=\"snow\")\n",
    "    scatter=axes.scatter(df[x],df[y],c=df[\"quality_label\"].map(colors),alpha=0.5)\n",
    "    x=x.replace(\"_\",\" \").capitalize()+\", \"\n",
    "    axes.set_xlabel(x,fontsize=10)\n",
    "    y=y.replace(\"_\",\" \")+\" \"\n",
    "    axes.set_ylabel(y,fontsize=10)\n",
    "    if len(df[\"type\"].unique())==2: title=\"Wines\"\n",
    "    elif 1 in df[\"type\"].unique(): title=\"Red wines\"\n",
    "    else: title=\"White wines\" \n",
    "    axes.set_title(title+\" - \"+x +y+ \"and quality\")\n",
    "    low_quality=mpatches.Patch(color=\"yellow\",label=\"Low quality wines\")\n",
    "    medium_quality=mpatches.Patch(color=\"crimson\",label=\"Medium quality wines\")\n",
    "    high_quality=mpatches.Patch(color=\"black\",label=\"Higher quality wines\")\n",
    "    axes.legend(handles=[low_quality,medium_quality,high_quality])\n",
    "    plt.show()"
   ]
  },
  {
   "cell_type": "code",
   "execution_count": null,
   "metadata": {},
   "outputs": [],
   "source": [
    "#Solving for times*0.05*std from any variable x's mean; so that at least 75% is of a particular quality or high label\n",
    "#Returns the wines within the greatest range and the times \n",
    "def expanding_circles(x,df,rank,labels):\n",
    "    per=[3,4,5,6,7,8,9]\n",
    "    ind=rank-3\n",
    "    incr=0.05\n",
    "    times=0\n",
    "    marker=\"quality\"\n",
    "    if labels:\n",
    "        per=[\"low\",\"medium\",1]\n",
    "        ind=2\n",
    "        rank=\"high\"\n",
    "        marker=\"quality_label\"\n",
    "    while per[ind]>=0.75:\n",
    "        temp=df.loc[(df[marker]==rank)]\n",
    "        high_mean=temp[x].mean()\n",
    "        high_std=temp[x].std()\n",
    "        upper_bound=high_mean+incr*high_std\n",
    "        lower_bound=high_mean-incr*high_std\n",
    "        incr+=0.05\n",
    "        times+=1\n",
    "        temp=(df.loc[(df[x]<upper_bound)&(df[x]>lower_bound)])\n",
    "        per=(temp[marker].value_counts(normalize=True))\n",
    "        a=(df.loc[(df[x]<upper_bound)&(df[x]>lower_bound)])\n",
    "        return a,times\n"
   ]
  },
  {
   "cell_type": "code",
   "execution_count": null,
   "metadata": {},
   "outputs": [],
   "source": [
    "a=white_wine\n",
    "a[\"total_acidity\"]=a.volatile_acidity+a.fixed_acidity+a.citric_acid\n",
    "a[\"crisp\"]=a.total_acidity/a.residual_sugar\n",
    "plt.figure(figsize=(12,8))\n",
    "sns.heatmap(a.corr().round(2),color=\"k\",linecolor=\"snow\",linewidth=0.2,annot=True)\n",
    "plt.xticks(rotation=45)\n",
    "plt.title(\"Heatmap of white wines\", fontsize=15)\n",
    "plt.show()\n",
    "a.corr()[[\"quality\"]].sort_values(by=\"quality\",ascending=False)"
   ]
  },
  {
   "cell_type": "code",
   "execution_count": null,
   "metadata": {},
   "outputs": [],
   "source": [
    "def test1(x,y,df):\n",
    "    sns.kdeplot(data=df,x=x,y=y,hue=\"quality_label\",levels=5,thresh=0.2)"
   ]
  },
  {
   "cell_type": "code",
   "execution_count": null,
   "metadata": {},
   "outputs": [],
   "source": [
    "red_wine.corr()[[\"volatile_acidity\"]].sort_values(by=\"volatile_acidity\",ascending=False)"
   ]
  },
  {
   "cell_type": "code",
   "execution_count": null,
   "metadata": {},
   "outputs": [],
   "source": [
    "temp1=red_wine.drop(\"quality_label\",axis=1)\n",
    "temp2=white_wine.drop(\"quality_label\",axis=1)"
   ]
  },
  {
   "cell_type": "code",
   "execution_count": null,
   "metadata": {},
   "outputs": [],
   "source": [
    "profile = ProfileReport(temp1, title=\"Pandas Profiling Report\", explorative=True)"
   ]
  },
  {
   "cell_type": "code",
   "execution_count": null,
   "metadata": {},
   "outputs": [],
   "source": [
    "dtale.show(temp1)"
   ]
  },
  {
   "cell_type": "code",
   "execution_count": null,
   "metadata": {},
   "outputs": [],
   "source": [
    "comparison_report=sv.compare([temp1,\"quality\"],[temp2,\"quality\"])"
   ]
  },
  {
   "cell_type": "code",
   "execution_count": null,
   "metadata": {},
   "outputs": [],
   "source": [
    "sns.kdeplot(data=red_wine,x=\"alcohol\",y=\"sulphates\",hue=\"quality_label\",levels=5,thresh=0.2)"
   ]
  },
  {
   "cell_type": "code",
   "execution_count": 20,
   "metadata": {},
   "outputs": [],
   "source": [
    "df=red_wine\n",
    "z=\"quality\"\n",
    "x=\"alcohol\"\n",
    "y=\"sulphates\"\n",
    "out=True"
   ]
  },
  {
   "cell_type": "code",
   "execution_count": 26,
   "metadata": {},
   "outputs": [
    {
     "data": {
      "text/plain": [
       "<seaborn.axisgrid.JointGrid at 0x1ca2cca0d00>"
      ]
     },
     "execution_count": 26,
     "metadata": {},
     "output_type": "execute_result"
    }
   ],
   "source": [
    "rel_check(\"quality\",\"alcohol\",red_wine)"
   ]
  },
  {
   "cell_type": "code",
   "execution_count": 25,
   "metadata": {},
   "outputs": [
    {
     "data": {
      "text/plain": [
       "Text(0, 0.5, 'sulphates')"
      ]
     },
     "execution_count": 25,
     "metadata": {},
     "output_type": "execute_result"
    }
   ],
   "source": [
    "fig, axes = plt.subplots(1,2, figsize=(10,10),facecolor=\"snow\")\n",
    "plt.show()\n",
    "temp=df[[z,x]]\n",
    "temp.boxplot(by=z, ax=axes[0],showfliers=out,color=\"dimgray\");axes[0].set_title(\"\"); axes[0].set_xlabel(z); axes[0].set_ylabel(x)\n",
    "temp=df[[z,y]]\n",
    "temp.boxplot(by=z, ax=axes[1],showfliers=out,color=\"dimgray\");axes[1].set_title(\"\"); axes[1].set_xlabel(z); axes[1].set_ylabel(y)\n"
   ]
  }
 ],
 "metadata": {
  "interpreter": {
   "hash": "d4ca260931255454fde840190d1592bc9540e5d22da7c62476b4271349462b5e"
  },
  "kernelspec": {
   "display_name": "Python 3.9.7 ('base')",
   "language": "python",
   "name": "python3"
  },
  "language_info": {
   "codemirror_mode": {
    "name": "ipython",
    "version": 3
   },
   "file_extension": ".py",
   "mimetype": "text/x-python",
   "name": "python",
   "nbconvert_exporter": "python",
   "pygments_lexer": "ipython3",
   "version": "3.9.7"
  },
  "orig_nbformat": 4
 },
 "nbformat": 4,
 "nbformat_minor": 2
}
