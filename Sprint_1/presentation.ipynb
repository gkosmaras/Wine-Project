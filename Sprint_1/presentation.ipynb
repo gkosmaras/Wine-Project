{
 "cells": [
  {
   "cell_type": "code",
   "execution_count": 8,
   "metadata": {},
   "outputs": [],
   "source": [
    "import numpy as np\n",
    "import pandas as pd\n",
    "import seaborn as sns\n",
    "import matplotlib.pyplot as plt\n",
    "from sklearn import preprocessing\n",
    "wine_price = pd.read_csv(\"wine_sales_data.csv\", sep=\",\")\n",
    "wine_price.drop([\n",
    "        \"designation\",\n",
    "        \"region_1\",\n",
    "        \"region_2\",\n",
    "        \"description\"\n",
    "    ],\n",
    "    axis=1,\n",
    "    inplace=True,\n",
    "    errors=\"ignore\"\n",
    "    )"
   ]
  },
  {
   "cell_type": "code",
   "execution_count": 9,
   "metadata": {},
   "outputs": [
    {
     "name": "stderr",
     "output_type": "stream",
     "text": [
      "C:\\Users\\giorg\\AppData\\Local\\Temp\\ipykernel_11168\\2263468998.py:5: SettingWithCopyWarning: \n",
      "A value is trying to be set on a copy of a slice from a DataFrame\n",
      "\n",
      "See the caveats in the documentation: https://pandas.pydata.org/pandas-docs/stable/user_guide/indexing.html#returning-a-view-versus-a-copy\n",
      "  our_wines.drop([\n"
     ]
    }
   ],
   "source": [
    "our_wines = (wine_price.loc[\n",
    "    (wine_price[\"country\"] == \"Portugal\")\n",
    "    & (wine_price[\"province\"] == \"Vinho Verde\")\n",
    "    ])\n",
    "our_wines.drop([\n",
    "        \"country\",\n",
    "        \"province\",\n",
    "        \"Unnamed: 0\"\n",
    "    ],\n",
    "    axis=1,\n",
    "    inplace=True,\n",
    "    errors=\"ignore\"\n",
    "    )\n",
    "q1 = our_wines[\"price\"].quantile(0.25)\n",
    "q3 = our_wines[\"price\"].quantile(0.75)\n",
    "iqr = q3 - q1\n",
    "our_wines = our_wines[\n",
    "    ((our_wines[\"price\"] > q1 - 1.5*iqr)\n",
    "    & (our_wines[\"price\"] < q3 + 1.5*iqr))\n",
    "    ]"
   ]
  },
  {
   "cell_type": "code",
   "execution_count": 10,
   "metadata": {},
   "outputs": [
    {
     "data": {
      "text/plain": [
       "medium    177\n",
       "low        80\n",
       "high       39\n",
       "Name: quality_label, dtype: int64"
      ]
     },
     "execution_count": 10,
     "metadata": {},
     "output_type": "execute_result"
    }
   ],
   "source": [
    "#The price dataset we hace contains a very small portion of Vinho Verde wines, and is of unknown date. Our wine dataset is from 2012. \n",
    "#To be able to draw conclusions about price-quality relationship, we divide them in quality labels, aiming for a distribution \n",
    "#similar to the one in our original dataset\n",
    "our_wines[\"quality_label\"] = our_wines[\"points\"].apply(\n",
    "    lambda value: \"low\" if value <= 84 \n",
    "    else \"medium\" if value <= 89 \n",
    "    else \"high\"\n",
    "    )\n",
    "our_wines[\"quality_label\"].value_counts()"
   ]
  },
  {
   "cell_type": "code",
   "execution_count": 11,
   "metadata": {},
   "outputs": [
    {
     "name": "stdout",
     "output_type": "stream",
     "text": [
      "Unexpected exception formatting exception. Falling back to standard exception\n"
     ]
    },
    {
     "name": "stderr",
     "output_type": "stream",
     "text": [
      "Traceback (most recent call last):\n",
      "  File \"c:\\Users\\giorg\\anaconda3\\lib\\site-packages\\IPython\\core\\interactiveshell.py\", line 3397, in run_code\n",
      "    exec(code_obj, self.user_global_ns, self.user_ns)\n",
      "  File \"C:\\Users\\giorg\\AppData\\Local\\Temp\\ipykernel_11168\\3796109937.py\", line 18, in <cell line: 18>\n",
      "    plt.suptitle(\"Frequency analysis of quality points\"/\n",
      "TypeError: unsupported operand type(s) for /: 'str' and 'str'\n",
      "\n",
      "During handling of the above exception, another exception occurred:\n",
      "\n",
      "Traceback (most recent call last):\n",
      "  File \"c:\\Users\\giorg\\anaconda3\\lib\\site-packages\\IPython\\core\\interactiveshell.py\", line 1992, in showtraceback\n",
      "    stb = self.InteractiveTB.structured_traceback(\n",
      "  File \"c:\\Users\\giorg\\anaconda3\\lib\\site-packages\\IPython\\core\\ultratb.py\", line 1118, in structured_traceback\n",
      "    return FormattedTB.structured_traceback(\n",
      "  File \"c:\\Users\\giorg\\anaconda3\\lib\\site-packages\\IPython\\core\\ultratb.py\", line 1012, in structured_traceback\n",
      "    return VerboseTB.structured_traceback(\n",
      "  File \"c:\\Users\\giorg\\anaconda3\\lib\\site-packages\\IPython\\core\\ultratb.py\", line 865, in structured_traceback\n",
      "    formatted_exception = self.format_exception_as_a_whole(etype, evalue, etb, number_of_lines_of_context,\n",
      "  File \"c:\\Users\\giorg\\anaconda3\\lib\\site-packages\\IPython\\core\\ultratb.py\", line 818, in format_exception_as_a_whole\n",
      "    frames.append(self.format_record(r))\n",
      "  File \"c:\\Users\\giorg\\anaconda3\\lib\\site-packages\\IPython\\core\\ultratb.py\", line 736, in format_record\n",
      "    result += ''.join(_format_traceback_lines(frame_info.lines, Colors, self.has_colors, lvals))\n",
      "  File \"c:\\Users\\giorg\\anaconda3\\lib\\site-packages\\stack_data\\utils.py\", line 145, in cached_property_wrapper\n",
      "    value = obj.__dict__[self.func.__name__] = self.func(obj)\n",
      "  File \"c:\\Users\\giorg\\anaconda3\\lib\\site-packages\\stack_data\\core.py\", line 698, in lines\n",
      "    pieces = self.included_pieces\n",
      "  File \"c:\\Users\\giorg\\anaconda3\\lib\\site-packages\\stack_data\\utils.py\", line 145, in cached_property_wrapper\n",
      "    value = obj.__dict__[self.func.__name__] = self.func(obj)\n",
      "  File \"c:\\Users\\giorg\\anaconda3\\lib\\site-packages\\stack_data\\core.py\", line 645, in included_pieces\n",
      "    scope_pieces = self.scope_pieces\n",
      "  File \"c:\\Users\\giorg\\anaconda3\\lib\\site-packages\\stack_data\\utils.py\", line 145, in cached_property_wrapper\n",
      "    value = obj.__dict__[self.func.__name__] = self.func(obj)\n",
      "  File \"c:\\Users\\giorg\\anaconda3\\lib\\site-packages\\stack_data\\core.py\", line 585, in scope_pieces\n",
      "    for piece in self.source.pieces\n",
      "  File \"c:\\Users\\giorg\\anaconda3\\lib\\site-packages\\stack_data\\utils.py\", line 145, in cached_property_wrapper\n",
      "    value = obj.__dict__[self.func.__name__] = self.func(obj)\n",
      "  File \"c:\\Users\\giorg\\anaconda3\\lib\\site-packages\\stack_data\\core.py\", line 90, in pieces\n",
      "    return list(self._clean_pieces())\n",
      "  File \"c:\\Users\\giorg\\anaconda3\\lib\\site-packages\\stack_data\\core.py\", line 114, in _clean_pieces\n",
      "    raise AssertionError(\"Pieces mismatches: %s\" % mismatches)\n",
      "AssertionError: Pieces mismatches: [{11, 12}, {17, 18}]\n"
     ]
    },
    {
     "data": {
      "image/png": "[encoded data removed]",
      "text/plain": [
       "<Figure size 432x288 with 2 Axes>"
      ]
     },
     "metadata": {
      "needs_background": "light"
     },
     "output_type": "display_data"
    }
   ],
   "source": [
    "fig, axes = plt.subplots(\n",
    "    1,2,\n",
    "    sharey=True,\n",
    "    squeeze=True\n",
    "    )\n",
    "our_wines[\"price\"].plot(\n",
    "    kind='hist',\n",
    "    bins=10,\n",
    "    ax=axes[0],\n",
    "    color=[\"crimson\"]\n",
    "    ); axes[0].set_xlabel(\"Price\")\n",
    "our_wines[\"points\"].plot(\n",
    "    kind='hist',\n",
    "    bins=10,\n",
    "    ax=axes[1],\n",
    "    color=[\"crimson\"]\n",
    "    ); axes[1].set_xlabel(\"Points\")\n",
    "plt.suptitle(\"Frequency analysis of quality points\"/ \n",
    "    \"and price for Vinho Verde wines\",\n",
    "    fontsize=12\n",
    "    )\n",
    "plt.tight_layout()"
   ]
  },
  {
   "cell_type": "code",
   "execution_count": 12,
   "metadata": {},
   "outputs": [
    {
     "data": {
      "text/plain": [
       "Text(0.5, 1.0, 'Quality label distribution')"
      ]
     },
     "execution_count": 12,
     "metadata": {},
     "output_type": "execute_result"
    },
    {
     "data": {
      "image/png": "[encoded data removed]",
      "text/plain": [
       "<Figure size 432x288 with 1 Axes>"
      ]
     },
     "metadata": {
      "needs_background": "light"
     },
     "output_type": "display_data"
    }
   ],
   "source": [
    "tempr=pd.DataFrame(\n",
    "    data = {\n",
    "        \"quality_label\": [\n",
    "            \"low\",\"medium\",\"high\"\n",
    "            ],\n",
    "        \"count\": our_wines.value_counts(\n",
    "            subset = \"quality_label\"\n",
    "            )\n",
    "        }\n",
    "    )\n",
    "# tempr[\"count\"] = preprocessing.minmax_scale(\n",
    "#     tempr[\"count\"], \n",
    "#     feature_range=(0.1, 1))\n",
    "tempr[\"count\"].plot(\n",
    "    kind='bar',\n",
    "    color=[\"crimson\"]\n",
    "    )\n",
    "plt.xlabel(\"Quality label\")\n",
    "plt.title(\"Quality label distribution\")"
   ]
  },
  {
   "cell_type": "code",
   "execution_count": 13,
   "metadata": {},
   "outputs": [],
   "source": [
    "lw = (our_wines.loc[\n",
    "    (our_wines[\"quality_label\"] == \"low\")\n",
    "    ])\n",
    "mw = (our_wines.loc[\n",
    "    (our_wines[\"quality_label\"] == \"medium\")\n",
    "    ])\n",
    "hw = (our_wines.loc[\n",
    "    (our_wines[\"quality_label\"] == \"high\")\n",
    "    ])"
   ]
  },
  {
   "cell_type": "code",
   "execution_count": 14,
   "metadata": {},
   "outputs": [
    {
     "data": {
      "text/html": [
       "<div>\n",
       "<style scoped>\n",
       "    .dataframe tbody tr th:only-of-type {\n",
       "        vertical-align: middle;\n",
       "    }\n",
       "\n",
       "    .dataframe tbody tr th {\n",
       "        vertical-align: top;\n",
       "    }\n",
       "\n",
       "    .dataframe thead tr th {\n",
       "        text-align: left;\n",
       "    }\n",
       "</style>\n",
       "<table border=\"1\" class=\"dataframe\">\n",
       "  <thead>\n",
       "    <tr>\n",
       "      <th></th>\n",
       "      <th>Low</th>\n",
       "      <th>Medium</th>\n",
       "      <th>High</th>\n",
       "    </tr>\n",
       "    <tr>\n",
       "      <th></th>\n",
       "      <th>price</th>\n",
       "      <th>price</th>\n",
       "      <th>price</th>\n",
       "    </tr>\n",
       "  </thead>\n",
       "  <tbody>\n",
       "    <tr>\n",
       "      <th>count</th>\n",
       "      <td>80.00</td>\n",
       "      <td>177.00</td>\n",
       "      <td>39.00</td>\n",
       "    </tr>\n",
       "    <tr>\n",
       "      <th>mean</th>\n",
       "      <td>8.04</td>\n",
       "      <td>10.94</td>\n",
       "      <td>15.26</td>\n",
       "    </tr>\n",
       "    <tr>\n",
       "      <th>std</th>\n",
       "      <td>2.00</td>\n",
       "      <td>2.85</td>\n",
       "      <td>3.17</td>\n",
       "    </tr>\n",
       "    <tr>\n",
       "      <th>min</th>\n",
       "      <td>5.00</td>\n",
       "      <td>6.00</td>\n",
       "      <td>9.00</td>\n",
       "    </tr>\n",
       "    <tr>\n",
       "      <th>25%</th>\n",
       "      <td>6.75</td>\n",
       "      <td>9.00</td>\n",
       "      <td>13.00</td>\n",
       "    </tr>\n",
       "    <tr>\n",
       "      <th>50%</th>\n",
       "      <td>8.00</td>\n",
       "      <td>11.00</td>\n",
       "      <td>16.00</td>\n",
       "    </tr>\n",
       "    <tr>\n",
       "      <th>75%</th>\n",
       "      <td>9.00</td>\n",
       "      <td>12.00</td>\n",
       "      <td>17.50</td>\n",
       "    </tr>\n",
       "    <tr>\n",
       "      <th>max</th>\n",
       "      <td>13.00</td>\n",
       "      <td>20.00</td>\n",
       "      <td>20.00</td>\n",
       "    </tr>\n",
       "  </tbody>\n",
       "</table>\n",
       "</div>"
      ],
      "text/plain": [
       "         Low  Medium   High\n",
       "       price   price  price\n",
       "count  80.00  177.00  39.00\n",
       "mean    8.04   10.94  15.26\n",
       "std     2.00    2.85   3.17\n",
       "min     5.00    6.00   9.00\n",
       "25%     6.75    9.00  13.00\n",
       "50%     8.00   11.00  16.00\n",
       "75%     9.00   12.00  17.50\n",
       "max    13.00   20.00  20.00"
      ]
     },
     "execution_count": 14,
     "metadata": {},
     "output_type": "execute_result"
    }
   ],
   "source": [
    "conl = lw.describe(\n",
    "    ).applymap(\"{:.2f}\".format\n",
    "    ).drop([\"points\"],\n",
    "    axis=1\n",
    "    )\n",
    "conm = mw.describe(\n",
    "    ).applymap(\"{:.2f}\".format\n",
    "    ).drop([\"points\"],\n",
    "    axis=1\n",
    "    )\n",
    "conh = hw.describe(\n",
    "    ).applymap(\"{:.2f}\".format\n",
    "    ).drop([\"points\"],\n",
    "    axis=1\n",
    "    )\n",
    "keys = [\"Low\", \"Medium\", \"High\"]\n",
    "price_ran = pd.concat(\n",
    "    (conl, conm, conh),\n",
    "    axis=1,\n",
    "    keys=keys\n",
    "    )\n",
    "price_ran"
   ]
  },
  {
   "cell_type": "code",
   "execution_count": 15,
   "metadata": {},
   "outputs": [
    {
     "data": {
      "text/plain": [
       "[Text(0, 0, '24.6')]"
      ]
     },
     "execution_count": 15,
     "metadata": {},
     "output_type": "execute_result"
    },
    {
     "data": {
      "image/png": "[encoded data removed]",
      "text/plain": [
       "<Figure size 576x72 with 1 Axes>"
      ]
     },
     "metadata": {
      "needs_background": "light"
     },
     "output_type": "display_data"
    }
   ],
   "source": [
    "fig, ax = plt.subplots(figsize=(8,1))\n",
    "labels = [\"Wines\"]\n",
    "wr = [24.6, 75.4]\n",
    "a = ax.barh(\n",
    "    labels,\n",
    "    wr[1],\n",
    "    label = \"White\",\n",
    "    color=\"yellow\"\n",
    "    )\n",
    "ax.bar_label(a)\n",
    "a = ax.barh(\n",
    "    labels,\n",
    "    wr[0],\n",
    "    label = \"Red\",\n",
    "    color=\"red\"\n",
    "    )\n",
    "ax.bar_label(a)"
   ]
  },
  {
   "cell_type": "code",
   "execution_count": 16,
   "metadata": {},
   "outputs": [],
   "source": [
    "prodw = [41140,\n",
    "    40243,\n",
    "    41618,\n",
    "    43150,\n",
    "    43016,\n",
    "    45397,\n",
    "    46946,\n",
    "    48451,\n",
    "    51599,\n",
    "    53664,\n",
    "    58024\n",
    "    ]\n",
    "prodr=[5779,\n",
    "    5114,\n",
    "    5294,\n",
    "    5384,\n",
    "    4716,\n",
    "    4293,\n",
    "    4041,\n",
    "    3216,\n",
    "    3279,\n",
    "    3262,\n",
    "    3079\n",
    "    ]\n",
    "year = list(range(2011, 2022))\n",
    "prod = pd.DataFrame(list(\n",
    "    zip(prodw, prodr, year)\n",
    "    ),\n",
    "    columns=[\"White\", \"Red\", \"Year\"]\n",
    "    )\n",
    "prod[\"White\"] = prod[\"White\"] / 1000\n",
    "prod[\"Red\"] = prod[\"Red\"] / 1000\n",
    "prod[\"Total\"] = prod[\"Red\"] + prod[\"White\"]"
   ]
  },
  {
   "cell_type": "code",
   "execution_count": 17,
   "metadata": {},
   "outputs": [
    {
     "data": {
      "image/png": "[encoded data removed]",
      "text/plain": [
       "<Figure size 432x288 with 1 Axes>"
      ]
     },
     "metadata": {
      "needs_background": "light"
     },
     "output_type": "display_data"
    }
   ],
   "source": [
    "plt.plot(\n",
    "    prod[\"Year\"],\n",
    "    prod[\"White\"],\n",
    "    \"o-y\",\n",
    "    label = \"White\"\n",
    "    )\n",
    "plt.plot(\n",
    "    prod[\"Year\"],\n",
    "    prod[\"Red\"],\n",
    "    \"o-r\",\n",
    "    label = \"Red\"\n",
    "    )\n",
    "plt.plot(\n",
    "    prod[\"Year\"],\n",
    "    prod[\"Total\"],\n",
    "    \"o-k\",\n",
    "    label=\"Total\"\n",
    "    )\n",
    "plt.xlabel(\"Year\")\n",
    "plt.title(\"Vinho Verde production by year\")\n",
    "plt.ylabel(\"Production in kilolitres\")\n",
    "plt.legend()\n",
    "plt.show()"
   ]
  },
  {
   "cell_type": "code",
   "execution_count": 18,
   "metadata": {},
   "outputs": [
    {
     "data": {
      "text/plain": [
       "White    0.035384\n",
       "Red     -0.058119\n",
       "Year     0.000496\n",
       "Total    0.027235\n",
       "dtype: float64"
      ]
     },
     "execution_count": 18,
     "metadata": {},
     "output_type": "execute_result"
    }
   ],
   "source": [
    "a = prod.sort_values([\"Year\"]).pct_change()\n",
    "a = a.tail(10)\n",
    "a.mean()"
   ]
  },
  {
   "cell_type": "code",
   "execution_count": 19,
   "metadata": {},
   "outputs": [
    {
     "data": {
      "text/plain": [
       "Text(0.5, 1.0, 'Vinho Verde exports by year')"
      ]
     },
     "execution_count": 19,
     "metadata": {},
     "output_type": "execute_result"
    },
    {
     "data": {
      "image/png": "[encoded data removed]",
      "text/plain": [
       "<Figure size 432x288 with 1 Axes>"
      ]
     },
     "metadata": {
      "needs_background": "light"
     },
     "output_type": "display_data"
    }
   ],
   "source": [
    "expt=[\n",
    "    51330358,\n",
    "    50224764,\n",
    "    51880168,\n",
    "    54951931,\n",
    "    54531468,\n",
    "    57425136,\n",
    "    59804973,\n",
    "    61151349,\n",
    "    65834069,\n",
    "    69704586,\n",
    "    76330490\n",
    "    ]\n",
    "exps=[\n",
    "    97090,\n",
    "    83508,\n",
    "    98681,\n",
    "    88805,\n",
    "    220772,\n",
    "    202111,\n",
    "    294461,\n",
    "    301956,\n",
    "    220519,\n",
    "    305399,\n",
    "    194394\n",
    "    ]\n",
    "year = list(range(2011, 2022))\n",
    "expt = (expt+exps)\n",
    "for i in range(len(expt)):\n",
    "    expt[i] = expt[i] / 1000\n",
    "exp = pd.DataFrame(list(\n",
    "    zip(expt, year)),\n",
    "    columns=[\"Volume\",\"Year\"]\n",
    "    )\n",
    "plt.plot(\n",
    "    exp[\"Year\"],\n",
    "    exp[\"Volume\"],\n",
    "    \"o-k\"\n",
    "    )\n",
    "plt.xlabel(\"Year\")\n",
    "plt.ylabel(\"Exports in kilolitres\")\n",
    "plt.title(\"Vinho Verde exports by year\")"
   ]
  },
  {
   "cell_type": "code",
   "execution_count": 20,
   "metadata": {},
   "outputs": [
    {
     "data": {
      "text/plain": [
       "Volume    0.041042\n",
       "Year      0.000496\n",
       "dtype: float64"
      ]
     },
     "execution_count": 20,
     "metadata": {},
     "output_type": "execute_result"
    }
   ],
   "source": [
    "a = exp.sort_values([\"Year\"]).pct_change()\n",
    "a.mean()"
   ]
  }
 ],
 "metadata": {
  "interpreter": {
   "hash": "34ab73eb2a201c4b750598ec4bd41f14c725bb809bc0c8207569acb80dee3ff5"
  },
  "kernelspec": {
   "display_name": "Python 3.9.7 ('base')",
   "language": "python",
   "name": "python3"
  },
  "language_info": {
   "codemirror_mode": {
    "name": "ipython",
    "version": 3
   },
   "file_extension": ".py",
   "mimetype": "text/x-python",
   "name": "python",
   "nbconvert_exporter": "python",
   "pygments_lexer": "ipython3",
   "version": "3.9.7"
  },
  "orig_nbformat": 4
 },
 "nbformat": 4,
 "nbformat_minor": 2
}
