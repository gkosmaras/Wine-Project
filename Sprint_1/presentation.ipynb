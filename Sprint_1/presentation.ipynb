{
 "cells": [
  {
   "cell_type": "code",
   "execution_count": 1,
   "metadata": {},
   "outputs": [],
   "source": [
    "import numpy as np\n",
    "import pandas as pd\n",
    "import seaborn as sns\n",
    "import matplotlib.pyplot as plt\n",
    "from sklearn import preprocessing\n",
    "wine_price=pd.read_csv(\"wine_sales_data.csv\",sep=\",\")\n",
    "wine_price.drop([\"designation\",\"region_1\",\"region_2\",\"description\"],axis=1,inplace=True,errors=\"ignore\")"
   ]
  },
  {
   "cell_type": "code",
   "execution_count": 2,
   "metadata": {},
   "outputs": [
    {
     "name": "stderr",
     "output_type": "stream",
     "text": [
      "C:\\Users\\giorg\\AppData\\Local\\Temp/ipykernel_15204/2634661552.py:2: SettingWithCopyWarning: \n",
      "A value is trying to be set on a copy of a slice from a DataFrame\n",
      "\n",
      "See the caveats in the documentation: https://pandas.pydata.org/pandas-docs/stable/user_guide/indexing.html#returning-a-view-versus-a-copy\n",
      "  our_wines.drop([\"country\",\"province\",\"Unnamed: 0\"],axis=1,inplace=True,errors=\"ignore\")\n"
     ]
    }
   ],
   "source": [
    "our_wines=(wine_price.loc[(wine_price[\"country\"]==\"Portugal\")&(wine_price[\"province\"]==\"Vinho Verde\")])\n",
    "our_wines.drop([\"country\",\"province\",\"Unnamed: 0\"],axis=1,inplace=True,errors=\"ignore\")\n",
    "q1=our_wines[\"price\"].quantile(0.25)\n",
    "q3=our_wines[\"price\"].quantile(0.75)\n",
    "iqr=q3-q1\n",
    "our_wines=our_wines[((our_wines[\"price\"]>(q1-1.5*iqr)) & (our_wines[\"price\"]<q3+1.5*iqr))]"
   ]
  },
  {
   "cell_type": "code",
   "execution_count": 37,
   "metadata": {},
   "outputs": [
    {
     "data": {
      "text/plain": [
       "medium    177\n",
       "low        80\n",
       "high       39\n",
       "Name: quality_label, dtype: int64"
      ]
     },
     "execution_count": 37,
     "metadata": {},
     "output_type": "execute_result"
    }
   ],
   "source": [
    "#The price dataset we hace contains a very small portion of Vinho Verde wines, and is of unknown date. Our wine dataset is from 2012. \n",
    "#To be able to draw conclusions about price-quality relationship, we divide them in quality labels, aiming for a distribution \n",
    "#similar to the one in our original dataset\n",
    "our_wines[\"quality_label\"]=our_wines[\"points\"].apply(lambda value: \"low\" if value<=84 else \"medium\" if value<=89 else \"high\")\n",
    "our_wines[\"quality_label\"].value_counts()"
   ]
  },
  {
   "cell_type": "code",
   "execution_count": 25,
   "metadata": {},
   "outputs": [
    {
     "data": {
      "image/png": "[encoded data removed]",
      "text/plain": [
       "<Figure size 432x288 with 2 Axes>"
      ]
     },
     "metadata": {},
     "output_type": "display_data"
    }
   ],
   "source": [
    "fig, axes = plt.subplots(1,2, sharey=True, squeeze=True, facecolor=\"snow\")\n",
    "our_wines[\"price\"].plot(kind='hist',bins=10,ax=axes[0],color=[\"crimson\"]); axes[0].set_xlabel(\"Price\")\n",
    "our_wines[\"points\"].plot(kind='hist',bins=10,ax=axes[1],color=[\"crimson\"]); axes[1].set_xlabel(\"Points\")\n",
    "plt.suptitle(\"Frequency analysis of quality points and price for Vinho Verde wines\",fontsize=12)\n",
    "plt.tight_layout()"
   ]
  },
  {
   "cell_type": "code",
   "execution_count": 49,
   "metadata": {},
   "outputs": [
    {
     "data": {
      "text/plain": [
       "Text(0.5, 1.0, 'Quality label distribution')"
      ]
     },
     "execution_count": 49,
     "metadata": {},
     "output_type": "execute_result"
    },
    {
     "data": {
      "image/png": "[encoded data removed]",
      "text/plain": [
       "<Figure size 432x288 with 1 Axes>"
      ]
     },
     "metadata": {
      "needs_background": "light"
     },
     "output_type": "display_data"
    }
   ],
   "source": [
    "tempr=pd.DataFrame(data={\"quality_label\":[\"low\",\"medium\",\"high\"],\"count\":our_wines.value_counts(subset=\"quality_label\")})\n",
    "#tempr[\"count\"]=preprocessing.minmax_scale(tempr[\"count\"], feature_range=(0.1, 1))\n",
    "tempr[\"count\"].plot(kind='bar',color=[\"crimson\"])\n",
    "plt.xlabel(\"Quality label\")\n",
    "plt.title(\"Quality label distribution\")"
   ]
  },
  {
   "cell_type": "code",
   "execution_count": 59,
   "metadata": {},
   "outputs": [
    {
     "data": {
      "text/plain": [
       "10.937853107344633"
      ]
     },
     "execution_count": 59,
     "metadata": {},
     "output_type": "execute_result"
    }
   ],
   "source": [
    "lw=(our_wines.loc[(our_wines[\"quality_label\"]==\"low\")])\n",
    "mw=(our_wines.loc[(our_wines[\"quality_label\"]==\"medium\")])\n",
    "hw=(our_wines.loc[(our_wines[\"quality_label\"]==\"high\")])"
   ]
  },
  {
   "cell_type": "code",
   "execution_count": 71,
   "metadata": {},
   "outputs": [
    {
     "data": {
      "text/html": [
       "<div>\n",
       "<style scoped>\n",
       "    .dataframe tbody tr th:only-of-type {\n",
       "        vertical-align: middle;\n",
       "    }\n",
       "\n",
       "    .dataframe tbody tr th {\n",
       "        vertical-align: top;\n",
       "    }\n",
       "\n",
       "    .dataframe thead tr th {\n",
       "        text-align: left;\n",
       "    }\n",
       "</style>\n",
       "<table border=\"1\" class=\"dataframe\">\n",
       "  <thead>\n",
       "    <tr>\n",
       "      <th></th>\n",
       "      <th>Low</th>\n",
       "      <th>Medium</th>\n",
       "      <th>High</th>\n",
       "    </tr>\n",
       "    <tr>\n",
       "      <th></th>\n",
       "      <th>price</th>\n",
       "      <th>price</th>\n",
       "      <th>price</th>\n",
       "    </tr>\n",
       "  </thead>\n",
       "  <tbody>\n",
       "    <tr>\n",
       "      <th>count</th>\n",
       "      <td>80.00</td>\n",
       "      <td>177.00</td>\n",
       "      <td>39.00</td>\n",
       "    </tr>\n",
       "    <tr>\n",
       "      <th>mean</th>\n",
       "      <td>8.04</td>\n",
       "      <td>10.94</td>\n",
       "      <td>15.26</td>\n",
       "    </tr>\n",
       "    <tr>\n",
       "      <th>std</th>\n",
       "      <td>2.00</td>\n",
       "      <td>2.85</td>\n",
       "      <td>3.17</td>\n",
       "    </tr>\n",
       "    <tr>\n",
       "      <th>min</th>\n",
       "      <td>5.00</td>\n",
       "      <td>6.00</td>\n",
       "      <td>9.00</td>\n",
       "    </tr>\n",
       "    <tr>\n",
       "      <th>25%</th>\n",
       "      <td>6.75</td>\n",
       "      <td>9.00</td>\n",
       "      <td>13.00</td>\n",
       "    </tr>\n",
       "    <tr>\n",
       "      <th>50%</th>\n",
       "      <td>8.00</td>\n",
       "      <td>11.00</td>\n",
       "      <td>16.00</td>\n",
       "    </tr>\n",
       "    <tr>\n",
       "      <th>75%</th>\n",
       "      <td>9.00</td>\n",
       "      <td>12.00</td>\n",
       "      <td>17.50</td>\n",
       "    </tr>\n",
       "    <tr>\n",
       "      <th>max</th>\n",
       "      <td>13.00</td>\n",
       "      <td>20.00</td>\n",
       "      <td>20.00</td>\n",
       "    </tr>\n",
       "  </tbody>\n",
       "</table>\n",
       "</div>"
      ],
      "text/plain": [
       "         Low  Medium   High\n",
       "       price   price  price\n",
       "count  80.00  177.00  39.00\n",
       "mean    8.04   10.94  15.26\n",
       "std     2.00    2.85   3.17\n",
       "min     5.00    6.00   9.00\n",
       "25%     6.75    9.00  13.00\n",
       "50%     8.00   11.00  16.00\n",
       "75%     9.00   12.00  17.50\n",
       "max    13.00   20.00  20.00"
      ]
     },
     "execution_count": 71,
     "metadata": {},
     "output_type": "execute_result"
    }
   ],
   "source": [
    "conl=lw.describe().applymap(\"{:.2f}\".format).drop([\"points\"],axis=1)\n",
    "conm=mw.describe().applymap(\"{:.2f}\".format).drop([\"points\"],axis=1)\n",
    "conh=hw.describe().applymap(\"{:.2f}\".format).drop([\"points\"],axis=1)\n",
    "keys=[\"Low\",\"Medium\",\"High\"]\n",
    "price_ran=pd.concat((conl,conm,conh),axis=1, keys=keys)\n",
    "price_ran"
   ]
  }
 ],
 "metadata": {
  "interpreter": {
   "hash": "34ab73eb2a201c4b750598ec4bd41f14c725bb809bc0c8207569acb80dee3ff5"
  },
  "kernelspec": {
   "display_name": "Python 3.9.7 ('base')",
   "language": "python",
   "name": "python3"
  },
  "language_info": {
   "codemirror_mode": {
    "name": "ipython",
    "version": 3
   },
   "file_extension": ".py",
   "mimetype": "text/x-python",
   "name": "python",
   "nbconvert_exporter": "python",
   "pygments_lexer": "ipython3",
   "version": "3.9.7"
  },
  "orig_nbformat": 4
 },
 "nbformat": 4,
 "nbformat_minor": 2
}
