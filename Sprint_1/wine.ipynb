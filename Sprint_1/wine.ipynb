{
 "cells": [
  {
   "cell_type": "code",
   "execution_count": null,
   "metadata": {},
   "outputs": [],
   "source": [
    "import numpy as np\n",
    "import pandas as pd\n",
    "import seaborn as sns\n",
    "import matplotlib.pyplot as plt\n",
    "from sklearn import preprocessing\n",
    "from sklearn.preprocessing import MinMaxScaler\n",
    "from pandas.plotting import andrews_curves\n",
    "from statsmodels.nonparametric.smoothers_lowess import lowess\n",
    "from scipy import stats\n",
    "import matplotlib.patches as mpatches\n",
    "red_wine=pd.read_csv(\"winequality-red.csv\",sep=\";\")\n",
    "white_wine=pd.read_csv(\"winequality-white.csv\",sep=\";\")"
   ]
  },
  {
   "cell_type": "code",
   "execution_count": null,
   "metadata": {},
   "outputs": [],
   "source": [
    "#Column renaming according to usual conventions\n",
    "red_wine.columns=red_wine.columns.str.replace(\" \",\"_\")\n",
    "white_wine.columns=white_wine.columns.str.replace(\" \",\"_\")\n",
    "red_wine[\"type\"]=\"red\"\n",
    "white_wine[\"type\"]=\"white\"\n",
    "#Categorization of quality into three groups\n",
    "red_wine[\"quality_label\"] = red_wine[\"quality\"].apply(lambda value: \"low\" if value<=5 else \"medium\" if value<7 else \"high\")\n",
    "white_wine[\"quality_label\"]=white_wine[\"quality\"].apply(lambda value: \"low\" if value<=5 else \"medium\" if value<7 else \"high\")\n",
    "red_wine[\"quality_label\"]=pd.Categorical(red_wine[\"quality_label\"],categories=[\"low\",\"medium\",\"high\"])\n",
    "white_wine[\"quality_label\"]=pd.Categorical(white_wine[\"quality_label\"],categories=[\"low\",\"medium\",\"high\"])\n",
    "#Useful user-created variables\n",
    "labels=[\"Fixed acidity\",\"Volatile acidity\",\"Citric acid\",\"Residual sugar\",\"Chlorides\",\"Free SO2\",\"Total SO2\",\"Density\",\"pH\",\"Sulphates\",\"Alchohol\",\"Quality\"]"
   ]
  },
  {
   "cell_type": "code",
   "execution_count": null,
   "metadata": {},
   "outputs": [],
   "source": [
    "wines=pd.concat([red_wine,white_wine])\n",
    "wines=wines.sample(frac=1,random_state=42).reset_index(drop=True)"
   ]
  },
  {
   "cell_type": "code",
   "execution_count": null,
   "metadata": {},
   "outputs": [],
   "source": [
    "#FUNCTIONS\n",
    "#Frequency analysis for specific feature on both types\n",
    "def freq(x):\n",
    "    fig,axes=plt.subplots(nrows=1,ncols=2,sharey=True,sharex=True,figsize=(10,4),facecolor=\"snow\")\n",
    "    wines.hist(column=x,by=\"type\",ax=axes,color=\"crimson\",edgecolor=\"black\",linewidth=1)\n",
    "    x=x.replace(\"_\",\" \")\n",
    "    x=x.capitalize()\n",
    "    fig.supxlabel(x)\n",
    "    x+=\" content in wines\"\n",
    "    plt.suptitle(x,x=0.5,y=1.05,ha=\"center\",fontsize=\"x-large\")\n",
    "    fig.supylabel(\"Frequency\")\n",
    "    axes[0].set_title(\"Red Wines\")\n",
    "    axes[1].set_title(\"White Wines\")\n",
    "#Creates a boxplot for variables xy to z of winetype dataset. If out==False removes outliers\n",
    "def boxplotter(x,y,z,winetype,out):\n",
    "    fig, axes = plt.subplots(1,2, figsize=(10,10),facecolor=\"snow\")\n",
    "    temp=winetype[[z,x]]\n",
    "    temp.boxplot(by=z, ax=axes[0],showfliers=out,color=\"dimgray\");axes[0].set_title(\"\"); axes[0].set_xlabel(z); axes[0].set_ylabel(x)\n",
    "    temp=winetype[[z,y]]\n",
    "    temp.boxplot(by=z, ax=axes[1],showfliers=out,color=\"dimgray\");axes[1].set_title(\"\"); axes[1].set_xlabel(z); axes[1].set_ylabel(y)\n",
    "#Normalizes a dataset\n",
    "def normalizer(df): \n",
    "    df=df.drop([\"type\",\"quality_label\"],axis=1)\n",
    "    scaler=MinMaxScaler()\n",
    "    scaler.fit(df)\n",
    "    scaled=scaler.fit_transform(df)\n",
    "    scaled_df=pd.DataFrame(scaled,columns=df.columns)\n",
    "    return scaled_df\n",
    "#Takes a,b variables for x and y axis respectively; nor is a boolean value for normalization\n",
    "def plotter(a,b,c,d,nor):\n",
    "    if nor:\n",
    "        c=normalizer(c)\n",
    "        d=normalizer(d)\n",
    "    fig, axes = plt.subplots(1,2, figsize=(14,7),facecolor=\"snow\")\n",
    "    x=sns.regplot(ax=axes[0],x=c[a],y=c[b],lowess=True,scatter_kws={\"color\":\"crimson\"},line_kws={\"color\":\"black\"})\n",
    "    y=sns.regplot(ax=axes[1],x=d[a],y=d[b],lowess=True,scatter_kws={\"color\":\"crimson\"},line_kws={\"color\":\"black\"})\n",
    "    return x,y\n",
    "#Graphs relationship between x,y variables on df dataset\n",
    "def rel_check(x,y,df):\n",
    "    gg=sns.JointGrid(x=x,y=y,data=df)\n",
    "    gg=gg.plot_joint(sns.regplot,color=\"crimson\")\n",
    "    gg=gg.plot_marginals(sns.histplot,kde=True,color=\"goldenrod\")\n",
    "    return gg\n",
    "#Multigraphs kde,scatter and hist for all variables (It takes time)\n",
    "def exp(df):\n",
    "    pp=sns.PairGrid(df)\n",
    "    pp=pp.map_upper(sns.kdeplot,cmap=\"hot\",shade=True,thresh=False)\n",
    "    pp=pp.map_diag(plt.hist,color=\"darkgrey\")\n",
    "    pp=pp.map_lower(sns.scatterplot,color=\"crimson\",edgecolor=\"black\")\n",
    "    return pp\n",
    "#Used for the removal of outliers with quantile principle\n",
    "def correction(df):\n",
    "    labels=[\"fixed_acidity\",\"volatile_acidity\",\"citric_acid\",\"residual_sugar\",\"chlorides\",\"free_sulfur_dioxide\",\"total_sulfur_dioxide\",\"density\",\"sulphates\",\"alcohol\",\"quality\"]\n",
    "    df=df[labels]\n",
    "    sorted(df)\n",
    "    for i in df:\n",
    "        q1=df[i].quantile(0.25)\n",
    "        q3=df[i].quantile(0.75)\n",
    "        iqr=q3-q1\n",
    "        low=q1-1.5*iqr\n",
    "        high=q3+1.5*iqr \n",
    "        df=df.loc[(df[i]>low) & (df[i]<high)]\n",
    "    return df\n",
    "#Multivariate analysis with x,y features of df dataset, with quality label hue\n",
    "def multivariate(x,y,df):\n",
    "    colors={\"low\":\"yellow\",\"medium\":\"crimson\",\"high\":\"black\"}\n",
    "    fig,axes=plt.subplots(figsize=(12,8),facecolor=\"snow\")\n",
    "    scatter=axes.scatter(df[x],df[y],c=df[\"quality_label\"].map(colors),alpha=0.5)\n",
    "    x=x.replace(\"_\",\" \").capitalize()+\", \"\n",
    "    axes.set_xlabel(x,fontsize=10)\n",
    "    y=y.replace(\"_\",\" \")+\" \"\n",
    "    axes.set_ylabel(y,fontsize=10)\n",
    "    if len(df[\"type\"].unique())==2: title=\"Wines\"\n",
    "    elif 1 in df[\"type\"].unique(): title=\"Red wines\"\n",
    "    else: title=\"White wines\" \n",
    "    axes.set_title(title+\" - \"+x +y+ \"and quality\")\n",
    "    low_quality=mpatches.Patch(color=\"yellow\",label=\"Low quality wines\")\n",
    "    medium_quality=mpatches.Patch(color=\"crimson\",label=\"Medium quality wines\")\n",
    "    high_quality=mpatches.Patch(color=\"black\",label=\"Higher quality wines\")\n",
    "    axes.legend(handles=[low_quality,medium_quality,high_quality])\n",
    "    plt.show()"
   ]
  },
  {
   "cell_type": "code",
   "execution_count": null,
   "metadata": {},
   "outputs": [],
   "source": [
    "#Fixed acidity refers to tartaric acid, the primary acid taste in wine, essential to mouthfeel and balance, adding an additional complexity to wine\n",
    "#Citric acid is the fruity flavour. Adds some acidity, used less frequently due to the strong flavour and tendecy to break down to vinegar/ethanol.\n",
    "#Volatile acidity is the gaseous acidic elements of a wine. Creates a vinegar/nail polish remover smell. Usualy undesirable"
   ]
  },
  {
   "cell_type": "code",
   "execution_count": null,
   "metadata": {},
   "outputs": [],
   "source": [
    "#Only pH seems to have normal distribution. All other values are positely/right skewed\n",
    "#Removal of outliers for all except pH should be done with IQR-distance filter"
   ]
  },
  {
   "cell_type": "code",
   "execution_count": null,
   "metadata": {},
   "outputs": [],
   "source": [
    "#Alcohol is the strongest indicator of a good quality wine, irrespective of type\n",
    "#For red wines, simmilary strong indicator is volatile acidity, inversely propotionate with quality\n",
    "#Sulphates and citric acid also have a small positive correlation\n",
    "#For white wines, apart from alcohol, the strongest indicators are chlorides, volatile acidity and total SO2, all inversely propotiional to quality\n",
    "#For the compined dataset, strong features are alcohol(+), volatile acidity(-) and chlorides(-)\n",
    "\n",
    "#Some coupling between features are:\n",
    "#(Free SO2-Total SO2)(Alcohol-Density)\n",
    "#(Total SO2-Residual sugar)(Density-Residual sugar)\n",
    "\n",
    "#We elected to not use density, as it is a property of the wine's composition"
   ]
  },
  {
   "cell_type": "code",
   "execution_count": null,
   "metadata": {},
   "outputs": [],
   "source": []
  },
  {
   "cell_type": "markdown",
   "metadata": {},
   "source": [
    "Checking the skewness of the variables"
   ]
  },
  {
   "cell_type": "code",
   "execution_count": null,
   "metadata": {},
   "outputs": [],
   "source": [
    "for i in white_wine.columns:\n",
    "    sns.displot(white_wine[i], kde=True)\n",
    "    plt.title(i)\n",
    "    plt.show()"
   ]
  },
  {
   "cell_type": "code",
   "execution_count": null,
   "metadata": {},
   "outputs": [],
   "source": [
    "for i in red_wine.columns:\n",
    "    sns.displot(red_wine[i], kde=True)\n",
    "    plt.title(i)\n",
    "    plt.show()"
   ]
  },
  {
   "cell_type": "code",
   "execution_count": null,
   "metadata": {},
   "outputs": [],
   "source": [
    "#ANOVA\n",
    "f,p=stats.f_oneway(wines[wines[\"quality_label\"]==\"low\"][\"alcohol\"],\n",
    "wines[wines[\"quality_label\"]==\"medium\"][\"alcohol\"],\n",
    "wines[wines[\"quality_label\"]==\"high\"][\"alcohol\"])\n",
    "print(\"ANOVA test for mean alcohol level across wine samples with different quality ratings\")\n",
    "print(\"F Statistic:\",f,\"\\tp-value:\",p)"
   ]
  },
  {
   "cell_type": "code",
   "execution_count": null,
   "metadata": {},
   "outputs": [],
   "source": [
    "conr=red_wine.describe().applymap(\"{:.2f}\".format)\n",
    "conw=white_wine.describe().applymap(\"{:.2f}\".format)\n",
    "keys=[\"Red Whine Statistics\",\"White Wine Statistics\"]\n",
    "wines_sum=pd.concat((conr,conw),axis=0, keys=keys)\n",
    "del conr,conw,keys\n",
    "wines_sum"
   ]
  },
  {
   "cell_type": "code",
   "execution_count": null,
   "metadata": {},
   "outputs": [],
   "source": [
    "fig= plt.subplots(figsize=(5,5),facecolor=\"lightgrey\")\n",
    "wines[\"type\"].value_counts().plot(kind=\"pie\", autopct=\"%.1f%%\", wedgeprops={\"alpha\":0.5}, colors=[\"yellow\",\"red\"], title=\"Distribution of wines based on colour\")"
   ]
  },
  {
   "cell_type": "code",
   "execution_count": null,
   "metadata": {},
   "outputs": [],
   "source": [
    "tempr=pd.DataFrame(data={\"quality_label\":[\"low\",\"medium\",\"high\"],\"count\":red_wine.value_counts(subset=\"quality_label\")})\n",
    "tempw=pd.DataFrame(data={\"quality_label\":[\"low\",\"medium\",\"high\"],\"count\":white_wine.value_counts(subset=\"quality_label\")})\n",
    "#Normalized for better understanding due to the radically different dataframe sizes\n",
    "fig, axes = plt.subplots(1,2, sharey=True, squeeze=True, facecolor=\"snow\")\n",
    "tempr[\"count\"]=preprocessing.minmax_scale(tempr[\"count\"], feature_range=(0.1, 1))\n",
    "tempw[\"count\"]=preprocessing.minmax_scale(tempw[\"count\"], feature_range=(0.1, 1))\n",
    "tempr[\"count\"].plot(kind='bar',ax=axes[0],color=[\"crimson\"]); axes[0].set_title('Red'); axes[0].set_xlabel(\"Wine quality\")\n",
    "tempw[\"count\"].plot(kind='bar',ax=axes[1],color=[\"crimson\"]); axes[1].set_title('White'); axes[1].set_xlabel(\"Wine quality\")"
   ]
  },
  {
   "cell_type": "code",
   "execution_count": null,
   "metadata": {},
   "outputs": [],
   "source": [
    "#Univariate frequency analysis for red wines\n",
    "red_wine.hist(bins=15,color=\"crimson\",edgecolor=\"black\",linewidth=1,xlabelsize=8,ylabelsize=8,grid=False)\n",
    "plt.tight_layout(rect=(0,0,1.2,1.2))\n",
    "plt.suptitle(\"Red wine univariate plots\",x=0.65,y=1.25,fontsize=15)"
   ]
  },
  {
   "cell_type": "code",
   "execution_count": null,
   "metadata": {},
   "outputs": [],
   "source": [
    "#Univariate frequency analysis for white wines\n",
    "white_wine.hist(bins=15,color=\"crimson\",edgecolor=\"black\",linewidth=1,xlabelsize=8,ylabelsize=8,grid=False)\n",
    "plt.tight_layout(rect=(0,0,1.2,1.2))\n",
    "plt.suptitle(\"White wine univariate plots\",x=0.65,y=1.25,fontsize=15)"
   ]
  },
  {
   "cell_type": "code",
   "execution_count": null,
   "metadata": {},
   "outputs": [],
   "source": [
    "#Heatmap for red wines\n",
    "plt.figure(figsize=(12,8))\n",
    "sns.heatmap(red_wine.corr().round(2),color=\"k\",linecolor=\"snow\",linewidth=0.2,annot=True,yticklabels=labels,xticklabels=labels)\n",
    "plt.xticks(rotation=45)\n",
    "plt.title(\"Heatmap of red wines\", fontsize=15)\n",
    "plt.show()\n",
    "red_wine.corr()[[\"quality\"]].sort_values(by=\"quality\",ascending=False)"
   ]
  },
  {
   "cell_type": "code",
   "execution_count": null,
   "metadata": {},
   "outputs": [],
   "source": [
    "#Heatmap for white wines\n",
    "plt.figure(figsize=(12,8))\n",
    "sns.heatmap(white_wine.corr().round(2),color=\"k\",linecolor=\"snow\",linewidth=0.2,annot=True,yticklabels=labels,xticklabels=labels)\n",
    "plt.xticks(rotation=45)\n",
    "plt.title(\"Heatmap of white wines\", fontsize=15)\n",
    "plt.show()\n",
    "white_wine.corr()[[\"quality\"]].sort_values(by=\"quality\",ascending=False)"
   ]
  },
  {
   "cell_type": "code",
   "execution_count": null,
   "metadata": {},
   "outputs": [],
   "source": [
    "#Heatmap for all wines\n",
    "plt.figure(figsize=(12,8))\n",
    "sns.heatmap(wines.corr().round(2),color=\"k\",linecolor=\"snow\",linewidth=0.2,annot=True,yticklabels=labels,xticklabels=labels)\n",
    "plt.xticks(rotation=45)\n",
    "plt.title(\"Heatmap of all wines\", fontsize=15)\n",
    "plt.show()\n",
    "#Alcohol, volatile acidity, density and chlorides influence a wine's quality\n",
    "wines.corr()[[\"quality\"]].sort_values(by=\"quality\",ascending=False)"
   ]
  },
  {
   "cell_type": "code",
   "execution_count": null,
   "metadata": {},
   "outputs": [],
   "source": [
    "red_wine.corr()[[\"volatile_acidity\"]].sort_values(by=\"volatile_acidity\",ascending=False)"
   ]
  },
  {
   "cell_type": "code",
   "execution_count": null,
   "metadata": {},
   "outputs": [],
   "source": [
    "multivariate(\"alcohol\",\"total_sulfur_dioxide\",red_wine)"
   ]
  },
  {
   "cell_type": "code",
   "execution_count": null,
   "metadata": {},
   "outputs": [],
   "source": [
    "#exp(wines)"
   ]
  },
  {
   "cell_type": "code",
   "execution_count": null,
   "metadata": {},
   "outputs": [],
   "source": [
    "#exp(wines[[\"alcohol\",\"free_sulfur_dioxide\",\"volatile_acidity\",\"chlorides\"]])"
   ]
  },
  {
   "cell_type": "code",
   "execution_count": null,
   "metadata": {},
   "outputs": [],
   "source": [
    "freq(\"free_sulfur_dioxide\")"
   ]
  },
  {
   "cell_type": "code",
   "execution_count": null,
   "metadata": {},
   "outputs": [],
   "source": [
    "#Create a new dataframe g1, with quality and quality label columns serving as identifiers\n",
    "g1=pd.melt(wines,id_vars=[\"quality\",\"quality_label\"],value_vars=wines.columns[:12],var_name=\"variable\",value_name=\"value\")\n",
    "g1.sort_values(by=[\"variable\",\"quality\"],ascending=[True,True],inplace=True)\n",
    "g1.reset_index(drop=True,inplace=True)\n",
    "g1.quality=g1.quality.astype(\"str\")\n",
    "g1.quality=g1.quality.astype(\"category\")\n",
    "#Create histplots for every variable binned by quality label\n",
    "g1=g1.groupby(by=[\"variable\",\"quality_label\"],as_index=False)[[\"value\"]].median()\n",
    "pp=sns.FacetGrid(g1,col=\"variable\",col_wrap=4,sharey=False,sharex=False,height=3,aspect=1,\n",
    "hue=\"quality_label\",hue_order=[\"low\",\"medium\",\"high\"],palette=\"rocket\")\n",
    "pp.map(sns.barplot,\"quality_label\",\"value\",order=[\"low\",\"medium\",\"high\"])\n",
    "plt.show()"
   ]
  },
  {
   "cell_type": "code",
   "execution_count": null,
   "metadata": {},
   "outputs": [],
   "source": [
    "#Having done all that we can check the correlation for each pair of significant value to quality"
   ]
  },
  {
   "cell_type": "code",
   "execution_count": null,
   "metadata": {},
   "outputs": [],
   "source": [
    "rel_check(\"free_sulfur_dioxide\",\"total_sulfur_dioxide\",red_wine)"
   ]
  },
  {
   "cell_type": "code",
   "execution_count": null,
   "metadata": {},
   "outputs": [],
   "source": [
    "rel_check(\"chlorides\",\"alcohol\",red_wine)"
   ]
  },
  {
   "cell_type": "code",
   "execution_count": null,
   "metadata": {},
   "outputs": [],
   "source": [
    "plotter(\"free_sulfur_dioxide\",\"quality\",red_wine,white_wine,False)"
   ]
  },
  {
   "cell_type": "code",
   "execution_count": null,
   "metadata": {},
   "outputs": [],
   "source": [
    "plotter(\"chlorides\",\"quality\",red_wine,white_wine,False)"
   ]
  },
  {
   "cell_type": "code",
   "execution_count": null,
   "metadata": {},
   "outputs": [],
   "source": [
    "plotter(\"volatile_acidity\",\"quality\",red_wine,white_wine,False)"
   ]
  },
  {
   "cell_type": "code",
   "execution_count": null,
   "metadata": {},
   "outputs": [],
   "source": [
    "plotter(\"alcohol\",\"quality\",red_wine,white_wine,False)"
   ]
  }
 ],
 "metadata": {
  "interpreter": {
   "hash": "d4ca260931255454fde840190d1592bc9540e5d22da7c62476b4271349462b5e"
  },
  "kernelspec": {
   "display_name": "Python 3.9.7 ('base')",
   "language": "python",
   "name": "python3"
  },
  "language_info": {
   "codemirror_mode": {
    "name": "ipython",
    "version": 3
   },
   "file_extension": ".py",
   "mimetype": "text/x-python",
   "name": "python",
   "nbconvert_exporter": "python",
   "pygments_lexer": "ipython3",
   "version": "3.9.7"
  },
  "orig_nbformat": 4
 },
 "nbformat": 4,
 "nbformat_minor": 2
}
